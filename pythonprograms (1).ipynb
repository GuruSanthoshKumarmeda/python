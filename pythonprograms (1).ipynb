{
 "cells": [
  {
   "cell_type": "code",
   "execution_count": null,
   "metadata": {},
   "outputs": [],
   "source": [
    "dict1={1:10,2:20};\n",
    "dict2={3:30,4:40};\n",
    "dict3={5:50,6:60};\n",
    "dict1.update(dict2);\n",
    "dict1.update(dict3);\n",
    "print(dict1);"
   ]
  },
  {
   "cell_type": "code",
   "execution_count": 40,
   "metadata": {},
   "outputs": [
    {
     "name": "stdout",
     "output_type": "stream",
     "text": [
      "enter key to search in dictionary keys\tname\n",
      "key name exists\n"
     ]
    }
   ],
   "source": [
    "search=input(\"enter key to search in dictionary keys\\t\");\n",
    "count=0;\n",
    "dict={'name':'santhosh','age':20,'gender':'male'};\n",
    "for i in dict.keys():\n",
    "    count+=1\n",
    "    if(i==search):\n",
    "       print(\"key\" ,search, \"exists\");\n",
    "       break;\n",
    "\n",
    "\n",
    "if (count+1)>len(dict.keys()):\n",
    "    print(\"key\",search, \"doesnot exist in dictionary\");\n",
    "    \n",
    "\n",
    "    \n",
    "\n"
   ]
  },
  {
   "cell_type": "markdown",
   "metadata": {},
   "source": [
    "# "
   ]
  },
  {
   "cell_type": "code",
   "execution_count": 25,
   "metadata": {},
   "outputs": [
    {
     "name": "stdout",
     "output_type": "stream",
     "text": [
      "{1: 1, 2: 4, 3: 9, 4: 16, 5: 25, 6: 36, 7: 49, 8: 64, 9: 81, 10: 100, 11: 121, 12: 144, 13: 169, 14: 196, 15: 225}\n"
     ]
    }
   ],
   "source": [
    "dict={};\n",
    "for i in range(1,16):\n",
    "    dict[i]=i*i;\n",
    "    \n",
    "print(dict);\n"
   ]
  },
  {
   "cell_type": "code",
   "execution_count": 39,
   "metadata": {},
   "outputs": [
    {
     "name": "stdout",
     "output_type": "stream",
     "text": [
      "{1: 10, 2: 20, 3: 30, 5: 40}\n"
     ]
    }
   ],
   "source": [
    "dict={1:10,2:20,3:30,4:10,5:40,6:20};\n",
    "temp=[];\n",
    "dict1={};\n",
    "for key,val in dict.items():\n",
    "    if val not in temp:\n",
    "        temp.append(val);\n",
    "        dict1[key]=val;\n",
    "        \n",
    "        \n",
    "print(dict1);\n"
   ]
  },
  {
   "cell_type": "code",
   "execution_count": 48,
   "metadata": {},
   "outputs": [
    {
     "name": "stdout",
     "output_type": "stream",
     "text": [
      "ac\n",
      "ad\n",
      "bc\n",
      "bd\n"
     ]
    }
   ],
   "source": [
    "import itertools\n",
    "dict1={'1':['a','b'],'2':['c','d']};\n",
    "for i in itertools.product(*[dict1[k] for k in sorted(dict1.keys())]):\n",
    "    print(\"\".join(i));\n",
    "    "
   ]
  },
  {
   "cell_type": "code",
   "execution_count": 10,
   "metadata": {},
   "outputs": [
    {
     "name": "stdout",
     "output_type": "stream",
     "text": [
      "{'w': 1, '3': 1, 'r': 2, 'e': 2, 's': 1, 'o': 1, 'u': 1, 'c': 1}\n"
     ]
    }
   ],
   "source": [
    "string='w3resource';\n",
    "dict={};\n",
    "list=[];\n",
    "for i in string:\n",
    "    if i not in list:\n",
    "        list.append(i);\n",
    "        dict[i]=1;\n",
    "    else:\n",
    "        dict[i]=(dict.get(i))+1;\n",
    "    \n",
    "\n",
    "print(dict);\n",
    "    \n"
   ]
  },
  {
   "cell_type": "code",
   "execution_count": 6,
   "metadata": {},
   "outputs": [
    {
     "name": "stdout",
     "output_type": "stream",
     "text": [
      "{'w': 1, '3': 1, 'r': 2, 'e': 2, 's': 1, 'o': 1, 'u': 1, 'c': 1}\n"
     ]
    }
   ],
   "source": [
    "from collections import Counter\n",
    "c=Counter(\"w3resource\")\n",
    "print(dict(c))"
   ]
  },
  {
   "cell_type": "code",
   "execution_count": 58,
   "metadata": {},
   "outputs": [
    {
     "name": "stdout",
     "output_type": "stream",
     "text": [
      "[('chemistry', 87), ('physics', 83), ('Math', 81)]\n"
     ]
    }
   ],
   "source": [
    "from collections import Counter\n",
    "dict=Counter({'Math':81,'physics':83,'chemistry':87});\n",
    "print(dict.most_common());\n"
   ]
  },
  {
   "cell_type": "code",
   "execution_count": 1,
   "metadata": {},
   "outputs": [
    {
     "name": "stdout",
     "output_type": "stream",
     "text": [
      "       name  C programming  python\n",
      "0  santhosh             30      39\n",
      "1       sai             38      36\n",
      "2       abc             40      35\n"
     ]
    }
   ],
   "source": [
    "import pandas as pd\n",
    "student_data={'name':['santhosh','sai','abc'],'C programming':[30,38,40],'python':[39,36,35]};\n",
    "df=pd.DataFrame(student_data)\n",
    "print(df)"
   ]
  },
  {
   "cell_type": "code",
   "execution_count": 2,
   "metadata": {},
   "outputs": [
    {
     "data": {
      "image/png": "[encoded data removed]",
      "text/plain": [
       "<Figure size 432x288 with 1 Axes>"
      ]
     },
     "metadata": {
      "needs_background": "light"
     },
     "output_type": "display_data"
    }
   ],
   "source": [
    "from matplotlib import pyplot as plt\n",
    "plt.bar([2,4,6,8,10],[3,6,9,12,15],color='r',label='data');\n",
    "plt.xlabel('x');\n",
    "plt.ylabel('Y');\n",
    "plt.legend('scale on x-axis 1unit =2cm\\non y-axis 1unit=3cm');\n",
    "plt.show();"
   ]
  },
  {
   "cell_type": "code",
   "execution_count": null,
   "metadata": {},
   "outputs": [],
   "source": [
    "import pandas as pd\n",
    "import numpy as np\n",
    "data = pd.read_csv(\"diamonds.csv\")\n",
    "print(\"series sorted by its values:\")\n",
    "print(data.cut.value_counts().sort_values())\n",
    "print(\"\\nseries sorted by its index:\")\n",
    "print(data.cut.value_counts().sort_index())\n",
    "data.dtypes"
   ]
  },
  {
   "cell_type": "code",
   "execution_count": 4,
   "metadata": {},
   "outputs": [
    {
     "name": "stdout",
     "output_type": "stream",
     "text": [
      "enter number545\n",
      "palindrome\n"
     ]
    }
   ],
   "source": [
    "n=int(input(\"enter number\"))\n",
    "\n",
    "def palindrome(k):\n",
    "    sum=0\n",
    "    while(k!=0):\n",
    "        remainder=k%10;\n",
    "        #print(remainder)\n",
    "        sum=sum*10+remainder;\n",
    "        k=k//10;\n",
    "    return sum;\n",
    "\n",
    "sum=palindrome(n);\n",
    "\n",
    "k=n;\n",
    "if n==sum:\n",
    "    print(\"palindrome\");\n",
    "else:\n",
    "    print(\"not palindrome\");"
   ]
  },
  {
   "cell_type": "code",
   "execution_count": 5,
   "metadata": {},
   "outputs": [
    {
     "name": "stdout",
     "output_type": "stream",
     "text": [
      "enter number145\n",
      "686\n",
      "686\n",
      "686\n",
      "686\n"
     ]
    }
   ],
   "source": [
    "n=int(input(\"enter number\"))\n",
    "k=n;\n",
    "add=0;\n",
    "def palindrome(k):\n",
    "    sum=0;\n",
    "    remainder=0;\n",
    "    while(k!=0):\n",
    "        remainder=k%10;\n",
    "        sum=sum*10+remainder;\n",
    "        k=k//10;\n",
    "    return sum;\n",
    "\n",
    "add=n+palindrome(n);\n",
    "print(add);\n",
    "l=palindrome(add);\n",
    "print(l);\n",
    "if add==l:\n",
    "    print(add);\n",
    "else:\n",
    "    add=add+l;\n",
    "    l=palindrome(add);\n",
    "    print(l);\n",
    "print(l)"
   ]
  },
  {
   "cell_type": "code",
   "execution_count": null,
   "metadata": {},
   "outputs": [],
   "source": [
    "list1=[];\n",
    "duplicate=[];\n",
    "n=int(input(\"enter no.of values\"));\n",
    "for i in range(n):\n",
    "    list1.append(int(input()));\n",
    "x=tuple(list1);\n",
    "for i in x:\n",
    "    c=x.count(i);\n",
    "    if c>1:\n",
    "        if i not in duplicate:\n",
    "            duplicate.append(i);\n",
    "    \n",
    "print(duplicate);\n"
   ]
  },
  {
   "cell_type": "code",
   "execution_count": null,
   "metadata": {},
   "outputs": [],
   "source": [
    "#remove duplicates in list\n",
    "n=int(input())\n",
    "li=[]\n",
    "for i in range(n):\n",
    "    li.append(int(input()))\n",
    "new=set(li)\n",
    "print(list(new))\n",
    "    "
   ]
  },
  {
   "cell_type": "code",
   "execution_count": 11,
   "metadata": {},
   "outputs": [
    {
     "name": "stdout",
     "output_type": "stream",
     "text": [
      "enteer nth term2\n"
     ]
    }
   ],
   "source": [
    "n=int(input(\"enteer nth term\"));\n",
    "a=0;\n",
    "b=1;\n",
    "def fibonacci(n):\n",
    "    for i in range (n):\n",
    "        c=a+b;\n",
    "        a=b;\n",
    "        b=c;\n",
    "    print(a);\n",
    "\n",
    "def pri(n):\n",
    "    count=0\n",
    "    for i in range(n):\n",
    "        flag=0;\n",
    "        for j in range(2,i+1):\n",
    "            if i%j==0:\n",
    "                flag=1;\n",
    "                break;\n",
    "            \n",
    "        if flag==0:\n",
    "            if ++count==n:\n",
    "                print(i);\n",
    "                break;\n",
    "            \n",
    "if n%2==0:\n",
    "    pri(int(n/2));\n",
    "else:\n",
    "    fibonacci(int(n/2)+1);"
   ]
  },
  {
   "cell_type": "code",
   "execution_count": 12,
   "metadata": {},
   "outputs": [
    {
     "name": "stdout",
     "output_type": "stream",
     "text": [
      "c\n",
      "c is not a keyword\n"
     ]
    }
   ],
   "source": [
    "list=[\"break\",'case','continue','default','defer','else','for','func','goto','if','map','range','return','struct','type','var'];\n",
    "str=input();\n",
    "if str in list:\n",
    "    print(str,\"is keyword\");\n",
    "else:\n",
    "    print(str,\"is not a keyword\");"
   ]
  },
  {
   "cell_type": "code",
   "execution_count": 13,
   "metadata": {},
   "outputs": [
    {
     "name": "stdout",
     "output_type": "stream",
     "text": [
      "Hey,i am santhosh\n",
      "17\n",
      "3\n"
     ]
    }
   ],
   "source": [
    "str=input();\n",
    "ch=0;\n",
    "word=0;\n",
    "for i in str:\n",
    "    ch+=1;\n",
    "    if i==' ':\n",
    "        word+=1;\n",
    "    \n",
    "print(ch);\n",
    "print(word+1);"
   ]
  },
  {
   "cell_type": "code",
   "execution_count": 14,
   "metadata": {},
   "outputs": [
    {
     "name": "stdout",
     "output_type": "stream",
     "text": [
      "enter number to find armstrong or not371\n",
      "not armstrong\n"
     ]
    }
   ],
   "source": [
    "import math\n",
    "n=(input(\"enter number to find armstrong or not\"))\n",
    "l=len(n);\n",
    "m=int(n)\n",
    "remainder=0\n",
    "while m!=0:\n",
    "    remainder=m%10;\n",
    "    #print(remainder)\n",
    "    sum=sum+math.pow(remainder,l);\n",
    "    #print(sum)\n",
    "    m=m//10;\n",
    "#print(sum)\n",
    "\n",
    "if sum==m:\n",
    "    print(\"Armstrong number\");\n",
    "else:\n",
    "    print(\"not armstrong\");"
   ]
  },
  {
   "cell_type": "code",
   "execution_count": null,
   "metadata": {},
   "outputs": [],
   "source": [
    "n=int(input(\"enter number\"));\n",
    "m=len(str(n));\n",
    "oddsum,evensum=0,0;\n",
    "x,y=0,0;\n",
    "a=str(n);\n",
    "for i in range(0,m):\n",
    "    if i%2==0:\n",
    "        x=int(a[i]);\n",
    "        evensum=evensum+x;\n",
    "    else:\n",
    "        y=int(a[i]);\n",
    "        oddsum=oddsum+y;\n",
    "    \n",
    "print(abs(oddsum-evensum));"
   ]
  },
  {
   "cell_type": "code",
   "execution_count": 28,
   "metadata": {},
   "outputs": [
    {
     "name": "stdout",
     "output_type": "stream",
     "text": [
      "5\n",
      "60\n",
      "30 -20\n"
     ]
    }
   ],
   "source": [
    "#TCS coordinate geometry question\n",
    "n=int(input());\n",
    "x,y=0,0;\n",
    "dist=10;\n",
    "c='r';\n",
    "for i in range(n):\n",
    "    if c=='r':\n",
    "        x=x+10;\n",
    "        c='u';\n",
    "        dist=dist+10;\n",
    "       \n",
    "    elif c=='u':\n",
    "        y=y+dist;\n",
    "        c='l';\n",
    "        dist=dist+10;\n",
    "       \n",
    "    elif c=='l':\n",
    "        x=x-dist;\n",
    "        c='d';\n",
    "        dist=dist+10;\n",
    "       \n",
    "    elif c=='d':\n",
    "        y=y-dist;\n",
    "        c='a';\n",
    "        dist=dist+10;\n",
    "       \n",
    "    elif c=='a':\n",
    "        x=x+dist;\n",
    "        c='r';\n",
    "        dist=dist+10\n",
    "        print(dist)\n",
    "       \n",
    "\n",
    "print(x,y);\n"
   ]
  },
  {
   "cell_type": "code",
   "execution_count": 27,
   "metadata": {},
   "outputs": [
    {
     "name": "stdout",
     "output_type": "stream",
     "text": [
      "enter number4567\n",
      "2\n"
     ]
    }
   ],
   "source": [
    "str=input(\"enter number\");\n",
    "m=len(str);\n",
    "num=[int(i) for i in str]\n",
    "os,es=0,0;\n",
    "for i in range(m):\n",
    "    if i%2==0:\n",
    "        es=es+num[i];\n",
    "    else:\n",
    "        os=os+num[i];\n",
    "\n",
    "print(abs(os-es));"
   ]
  },
  {
   "cell_type": "code",
   "execution_count": 29,
   "metadata": {},
   "outputs": [
    {
     "name": "stdout",
     "output_type": "stream",
     "text": [
      "enter decimal number30\n",
      "decimal number is 30\n",
      "decimal: 30 binary: 0b11110\n",
      "decimal: 30 binary: 0o36\n",
      "decimal: 30 binary: 0x1e\n"
     ]
    }
   ],
   "source": [
    "n=int(input(\"enter decimal number\"))\n",
    "print(\"decimal number is\",n);\n",
    "print(\"decimal:\",n,\"binary:\",bin(n));\n",
    "print(\"decimal:\",n,\"binary:\",oct(n));\n",
    "print(\"decimal:\",n,\"binary:\",hex(n));"
   ]
  },
  {
   "cell_type": "code",
   "execution_count": 30,
   "metadata": {},
   "outputs": [
    {
     "name": "stdout",
     "output_type": "stream",
     "text": [
      "enter characterG\n",
      "ASCII character for given character is 71\n"
     ]
    }
   ],
   "source": [
    "c=input(\"enter character\");\n",
    "print(\"ASCII character for given character is\",ord(c));"
   ]
  },
  {
   "cell_type": "code",
   "execution_count": 31,
   "metadata": {},
   "outputs": [
    {
     "name": "stdout",
     "output_type": "stream",
     "text": [
      "3\n",
      "[[11, 13, 15], [17, 19, 21], [23, 25, 27]]\n"
     ]
    }
   ],
   "source": [
    "#Addition of matrices\n",
    "a=[[1,2,3],[4,5,6],[7,8,9]];\n",
    "b=[[10,11,12],[13,14,15],[16,17,18]];\n",
    "c=[[0,0,0],[0,0,0],[0,0,0]];\n",
    "print(len(a))\n",
    "for i in range(len(a)):\n",
    "    for j in range(len(a[0])):\n",
    "        c[i][j]=a[i][j]+b[i][j];\n",
    "    \n",
    "\n",
    "print(c);"
   ]
  },
  {
   "cell_type": "code",
   "execution_count": null,
   "metadata": {},
   "outputs": [],
   "source": [
    "#To find 2nd winner in a game\n",
    "n = int(input())\n",
    "list1=[]\n",
    "list2=[];\n",
    "for i in range(n):\n",
    "    x=int(input())\n",
    "    list1.append(x);\n",
    "for i in list1:\n",
    "    if i not in list2:\n",
    "        list2.append(i);\n",
    "list2.sort();\n",
    "print(list2)\n",
    "print(list2[-2])"
   ]
  },
  {
   "cell_type": "code",
   "execution_count": 32,
   "metadata": {},
   "outputs": [
    {
     "name": "stdout",
     "output_type": "stream",
     "text": [
      "enter term to find out5\n",
      "4\n"
     ]
    }
   ],
   "source": [
    "#pattern problem\n",
    "n=int(input(\"enter term to find out\"));\n",
    "if n%2==0:\n",
    "    n=n//2\n",
    "    print(3**(n-1));\n",
    "else:\n",
    "    n=n//2+1;\n",
    "    print(2**(n-1))\n"
   ]
  },
  {
   "cell_type": "code",
   "execution_count": null,
   "metadata": {},
   "outputs": [],
   "source": [
    "#replace vowels in first string with *\n",
    "#replace consonants in second string with @\n",
    "#convert third string charaters in to upper case\n",
    "#finally append all 3 strings\n",
    "a=input();\n",
    "b=input();\n",
    "c=input();\n",
    "d=list(a);\n",
    "e=list(b);\n",
    "str1=\" \"\n",
    "str2=\" \"\n",
    "vowels=['a','e','i','o','u'];\n",
    "numbers=['0','1','2','3','4','5','6','7','8','9']\n",
    "for i in range(len(a)):\n",
    "    if a[i] in vowels:\n",
    "        d[i]=\"*\";\n",
    "for i in d:\n",
    "    str1+=i;\n",
    "\n",
    "    \n",
    "for i in range(len(b)):\n",
    "    if b[i] not in vowels:\n",
    "        if b[i] in numbers:\n",
    "            continue;\n",
    "        else:\n",
    "            e[i]=\"@\";\n",
    "        \n",
    "    \n",
    "\n",
    "for i in e:\n",
    "    str2+=i;\n",
    "print(str1+str2+c.upper())\n",
    "\n"
   ]
  },
  {
   "cell_type": "code",
   "execution_count": 33,
   "metadata": {},
   "outputs": [
    {
     "name": "stdout",
     "output_type": "stream",
     "text": [
      "enter nth term200\n",
      "99\n"
     ]
    }
   ],
   "source": [
    "n=int(input(\"enter nth term\"))\n",
    "a=0\n",
    "b=0\n",
    "for i in range(1,n+1):\n",
    "    if i%2!=0:\n",
    "        a=a+2;\n",
    "    else:\n",
    "        b=int(a/2);\n",
    "if n%2==0:\n",
    "    print((b-1));\n",
    "else:\n",
    "    print((a-2));\n",
    "    "
   ]
  },
  {
   "cell_type": "code",
   "execution_count": null,
   "metadata": {},
   "outputs": [],
   "source": [
    "#to find range of prime numbers\n",
    "n=100;\n",
    "for i in range(2,n+1):\n",
    "    flag=0;\n",
    "    for j in range(2,i):\n",
    "        if i%j==0:\n",
    "            flag=1;\n",
    "            break;\n",
    "        \n",
    "    if flag==0:\n",
    "        print(i);"
   ]
  },
  {
   "cell_type": "code",
   "execution_count": 34,
   "metadata": {},
   "outputs": [
    {
     "name": "stdout",
     "output_type": "stream",
     "text": [
      "enter no.of candies ordered by customer4\n",
      "NUMBER OF CANDIES SOLD: 4\n",
      "NUMBER OF CANDIES AVAILABLE: 6\n"
     ]
    }
   ],
   "source": [
    "n=10\n",
    "k=5\n",
    "l=int(input(\"enter no.of candies ordered by customer\"));\n",
    "if l>=1 and l<=k:\n",
    "    print(\"NUMBER OF CANDIES SOLD:\",l);\n",
    "    print(\"NUMBER OF CANDIES AVAILABLE:\",n-l);\n",
    "else:\n",
    "    print(\"INVALID INPUT\");\n",
    "    print(\"NUMBER OF CANDIES LEFT:\",n);"
   ]
  },
  {
   "cell_type": "code",
   "execution_count": 35,
   "metadata": {},
   "outputs": [
    {
     "name": "stdout",
     "output_type": "stream",
     "text": [
      "enter round 1 details for all trainess\n",
      "70\n",
      "65\n",
      "65\n",
      "enter round 2 details for all trainess\n",
      "80\n",
      "90\n",
      "90\n",
      "enter round 3 details for all trainess\n",
      "80\n",
      "90\n",
      "90\n",
      "81.66666666666667\n",
      "Trainee Number: 2\n",
      "Trainee Number: 3\n"
     ]
    }
   ],
   "source": [
    "from statistics import mean\n",
    "n=3\n",
    "t1=[];\n",
    "t2=[];\n",
    "t3=[];\n",
    "avg=[];\n",
    "copy=[];\n",
    "for i in range(1,n+1):\n",
    "    print(\"enter round\",i,\"details for all trainess\");\n",
    "    x,y,z=int(input()),int(input()),int(input());\n",
    "    if (x>=1 and x<=100) and(y>=1 and y<=100) and (z>=1 and z<=100):\n",
    "        t1.append(x);\n",
    "        t2.append(y);\n",
    "        t3.append(z);\n",
    "    else:\n",
    "        print(\"INVALID INPUT\")\n",
    "x=mean(t1);\n",
    "avg.append(round(x,2));\n",
    "x=mean(t2);\n",
    "avg.append(round(x,2));\n",
    "x=mean(t3);\n",
    "print(x)\n",
    "avg.append(round(x,2));\n",
    "copy=avg.copy();\n",
    "avg.sort(key=None,reverse=True)\n",
    "y=avg[0]\n",
    "for i in range(len(copy)):\n",
    "    if copy[i]<70:\n",
    "        print(\"Trainee is unfit\");\n",
    "    elif y==copy[i]:\n",
    "        print('Trainee Number:',i+1);\n"
   ]
  },
  {
   "cell_type": "code",
   "execution_count": 36,
   "metadata": {},
   "outputs": [
    {
     "name": "stdout",
     "output_type": "stream",
     "text": [
      "15\n",
      "49\n"
     ]
    }
   ],
   "source": [
    "n=int(input())\n",
    "def six(n):\n",
    "    a=0;\n",
    "    for i in range(1,n):\n",
    "        a+=6;\n",
    "    print(a);\n",
    "def seven(n):\n",
    "    b=0;\n",
    "    for i in range(1,n):\n",
    "        b+=7;\n",
    "    print(b)\n",
    "    \n",
    "if n%2==0:\n",
    "    six(int(n/2));\n",
    "else:\n",
    "    seven(int(n/2+1))\n",
    "\n",
    "        "
   ]
  },
  {
   "cell_type": "code",
   "execution_count": 37,
   "metadata": {},
   "outputs": [
    {
     "name": "stdout",
     "output_type": "stream",
     "text": [
      "10000\n",
      "OVERLOADED\n"
     ]
    }
   ],
   "source": [
    "weight=int(input());\n",
    "if weight<=7000:\n",
    "    if weight==0:\n",
    "        print(\"Time Estimated:0 minutes\");\n",
    "    elif weight>0 and weight<=2000:\n",
    "        print(\"Time Estimated:25 minutes\");\n",
    "    elif weight>=2001 and weight<=4000:\n",
    "        print(\"Time Estimated:35 minutes\");\n",
    "    elif weight>=4000 and weight<=7000:\n",
    "        print(\"Time Estimated:45 minutes\");\n",
    "    else:\n",
    "        print(\"INVALID INPUT\");\n",
    "else:\n",
    "    print(\"OVERLOADED\");\n"
   ]
  },
  {
   "cell_type": "code",
   "execution_count": 38,
   "metadata": {},
   "outputs": [
    {
     "name": "stdout",
     "output_type": "stream",
     "text": [
      "Enter your PlainText:All the best\n",
      "Enter the Key:1\n",
      "Bmm uif cftu\n"
     ]
    }
   ],
   "source": [
    "str1=input(\"Enter your PlainText:\");\n",
    "key=int(input(\"Enter the Key:\"));\n",
    "def CustomCaesarCipher(key,str1):\n",
    "    str2=\"\"\n",
    "    for i in str1:\n",
    "        if i!=\"\":\n",
    "            str2+=chr(ord(i)+key)\n",
    "        else:\n",
    "            str2+=i;\n",
    "            \n",
    "\n",
    "            \n",
    "    str3=str2.replace('!',\" \");\n",
    "    print(str3)\n",
    "CustomCaesarCipher(key,str1);"
   ]
  },
  {
   "cell_type": "code",
   "execution_count": 39,
   "metadata": {},
   "outputs": [
    {
     "name": "stdout",
     "output_type": "stream",
     "text": [
      "20\n",
      "20.38\n",
      "40.38\n"
     ]
    }
   ],
   "source": [
    "number1=int(input())\n",
    "number2=float(input())\n",
    "def method(number1,number2):\n",
    "    print(round(number1+number2,2))\n",
    "method(number1,number2);"
   ]
  },
  {
   "cell_type": "code",
   "execution_count": 40,
   "metadata": {},
   "outputs": [
    {
     "name": "stdout",
     "output_type": "stream",
     "text": [
      "enter nth term12\n",
      "243\n"
     ]
    }
   ],
   "source": [
    "import math\n",
    "n=int(input(\"enter nth term\"));\n",
    "def three(n):\n",
    "    for i in range(n):\n",
    "        a=math.pow(3,i)\n",
    "    print(int(a));\n",
    "def two(n):\n",
    "    for i in range(n):\n",
    "        a=math.pow(2,i)\n",
    "    print(int(a));\n",
    "if n%2==0:\n",
    "    three(int(n/2));\n",
    "else:\n",
    "    two(int(n/2+1))"
   ]
  },
  {
   "cell_type": "code",
   "execution_count": 41,
   "metadata": {},
   "outputs": [
    {
     "name": "stdout",
     "output_type": "stream",
     "text": [
      "7\n",
      "20\n",
      "30\n",
      "40\n",
      "50\n",
      "2\n",
      "3\n",
      "4\n",
      "Total Income 2100 INR\n"
     ]
    }
   ],
   "source": [
    "age=[];\n",
    "earn=0\n",
    "n=int(input())\n",
    "if n<=20:\n",
    "    for i in range(n):\n",
    "        x=int(input());\n",
    "        if x>0 and x<120:\n",
    "            age.append(x);\n",
    "         \n",
    "        \n",
    "                \n",
    "\n",
    "for i in range(len(age)):\n",
    "    if age[i]<17:\n",
    "        earn+=200;\n",
    "    elif age[i]>=17 and age[i]<=40:\n",
    "        earn+=400;\n",
    "    elif age[i]>40:\n",
    "            earn+=300;\n",
    "print(\"Total Income\",earn,\"INR\")"
   ]
  },
  {
   "cell_type": "code",
   "execution_count": 62,
   "metadata": {},
   "outputs": [
    {
     "name": "stdout",
     "output_type": "stream",
     "text": [
      "26\n",
      "Y\n"
     ]
    }
   ],
   "source": [
    "n=int(input())\n",
    "def alpha(n):\n",
    "    y=65;\n",
    "    x=2;\n",
    "    for i in range(1,n):\n",
    "        y+=x;\n",
    "    print(chr(y));\n",
    "#print(chr(y));\n",
    "def seq(n):\n",
    "    x=0;\n",
    "    for i in range(n):\n",
    "        x=x+1;\n",
    "    print(x);\n",
    "if n%2==0:\n",
    "    alpha(int(n/2))\n",
    "else:\n",
    "    seq(int(n/2+1))"
   ]
  },
  {
   "cell_type": "code",
   "execution_count": 1,
   "metadata": {},
   "outputs": [
    {
     "name": "stdout",
     "output_type": "stream",
     "text": [
      "7\n"
     ]
    }
   ],
   "source": [
    "#to count spcl characters in a string\n",
    "a=\"hi,i am santhosh!How are you?\"\n",
    "count=0\n",
    "for i in a:\n",
    "    if (i>='a' and i<='z') or (i>='A' and i<='Z'):\n",
    "        continue;\n",
    "    elif i>='0' and i<='9':\n",
    "        continue;\n",
    "    else:\n",
    "        #print(i);\n",
    "        count+=1\n",
    "        \n",
    "    \n",
    "print(count)"
   ]
  },
  {
   "cell_type": "code",
   "execution_count": 64,
   "metadata": {},
   "outputs": [
    {
     "name": "stdout",
     "output_type": "stream",
     "text": [
      "[[0 1 2]\n",
      " [3 4 5]\n",
      " [6 7 8]]\n",
      "[[0 1 2]\n",
      " [3 4 5]\n",
      " [6 7 8]]\n",
      "[[ 15  18  21]\n",
      " [ 42  54  66]\n",
      " [ 69  90 111]]\n"
     ]
    }
   ],
   "source": [
    "#multiplication of two matrices\n",
    "import numpy as np\n",
    "x=np.arange(9).reshape(3,3)\n",
    "y=np.arange(9).reshape(3,3)\n",
    "print(x)\n",
    "print(y)\n",
    "print(x.dot(y))"
   ]
  },
  {
   "cell_type": "code",
   "execution_count": null,
   "metadata": {},
   "outputs": [],
   "source": [
    "import numpy as np\n",
    "r1=int(input(\"enter number of rows\"))\n",
    "c1=int(input(\"enter number of columns\"))\n",
    "matrix1=list(map(int,input().split()))\n",
    "a=np.array(matrix1).reshape(r1,c1)\n",
    "r2=int(input(\"enter number of rows\"))\n",
    "c2=int(input(\"enter number of columns\"))\n",
    "matrix2=list(map(int,input().split()))\n",
    "b=np.array(matrix2).reshape(r2,c2)\n",
    "print(a@b)\n",
    "print(a.dot(b))\n",
    "print(np.diagonal(a),np.diagonal(b))\n",
    "\n",
    "\n",
    "print(a)"
   ]
  },
  {
   "cell_type": "code",
   "execution_count": 67,
   "metadata": {},
   "outputs": [
    {
     "name": "stdout",
     "output_type": "stream",
     "text": [
      "enter number of rows3\n",
      "enter number of columns2\n",
      "1\n",
      "2\n",
      "3\n",
      "4\n",
      "5\n",
      "6\n",
      "[[1, 2], [3, 4], [5, 6]]\n",
      "[[5, 6]]\n"
     ]
    }
   ],
   "source": [
    "r=int(input(\"enter number of rows\"))\n",
    "c=int(input(\"enter number of columns\"))\n",
    "matrix=[]\n",
    "for i in range(r):         \n",
    "    a=[]\n",
    "    for j in range(c):   \n",
    "        x=int(input());\n",
    "        a.append(x);\n",
    "    matrix.append(a);\n",
    "print(matrix)\n",
    "print(matrix[1:][1:])"
   ]
  },
  {
   "cell_type": "code",
   "execution_count": 68,
   "metadata": {},
   "outputs": [
    {
     "name": "stdout",
     "output_type": "stream",
     "text": [
      "25\n",
      "40\n",
      "200\n"
     ]
    }
   ],
   "source": [
    "#lcm of two numbers\n",
    "import math\n",
    "n=int(input())\n",
    "m=int(input())\n",
    "\n",
    "lcm=int((m*n)/math.gcd(m,n))\n",
    "print(lcm)\n"
   ]
  },
  {
   "cell_type": "code",
   "execution_count": 69,
   "metadata": {},
   "outputs": [
    {
     "name": "stdout",
     "output_type": "stream",
     "text": [
      "5\n",
      "6\n",
      "7\n",
      "14.7\n"
     ]
    }
   ],
   "source": [
    "#Area of trinagle\n",
    "import math\n",
    "a=float(input())\n",
    "b=float(input())\n",
    "c=float(input())\n",
    "s=(a+b+c)/2;\n",
    "\n",
    "area=math.sqrt(s*(s-a)*(s-b)*(s-c))\n",
    "print(round(area,2))"
   ]
  },
  {
   "cell_type": "code",
   "execution_count": null,
   "metadata": {},
   "outputs": [],
   "source": [
    "import numpy as np\n",
    "rows=(input(\"enter number of rows\"))\n",
    "cols=(input(\"enter number of columns\"))\n",
    "matrix=list(map(int,input().split()))\n",
    "a=np.array(matrix).reshape(rows,cols)\n",
    "#print(a)\n",
    "rows=int(input(\"enter number of rows\"))\n",
    "cols=int(input(\"enter number of columns\"))\n",
    "matrix1=list(map(int,input().split()))\n",
    "b=np.array(matrix1).reshape(rows,cols)\n",
    "print(a*b)\n",
    "print(a@b)\n",
    "print(a.dot(b))\n",
    "print(a.sum(axis=0))\n",
    "print(b.sum(axis=1))\n",
    "print(a.transpose())\n",
    "c=a.tolist()\n",
    "print(c[::-1])\n",
    "print(a.partition(2))\n"
   ]
  },
  {
   "cell_type": "code",
   "execution_count": 70,
   "metadata": {},
   "outputs": [
    {
     "name": "stdout",
     "output_type": "stream",
     "text": [
      "100\n",
      "[2, 3, 5, 7, 11, 13, 17, 19, 23, 29, 31, 37, 41, 43, 47, 53, 59, 61, 67, 71, 73, 79, 83, 89, 97]\n"
     ]
    }
   ],
   "source": [
    "#to find prime numbers that are less than are equal to n\n",
    "n=int(input());\n",
    "prime=[]\n",
    "for i in range(2,n+1):\n",
    "    flag=0\n",
    "    for j in range(2,i):\n",
    "        if i%j==0:\n",
    "            flag=1;\n",
    "            break;\n",
    "    if flag==0:\n",
    "        prime.append(i);\n",
    "print(prime)"
   ]
  },
  {
   "cell_type": "code",
   "execution_count": 71,
   "metadata": {},
   "outputs": [
    {
     "name": "stdout",
     "output_type": "stream",
     "text": [
      "5\n",
      "prime number\n"
     ]
    }
   ],
   "source": [
    "#to find a given number is prime or not\n",
    "n=int(input())\n",
    "flag=0;\n",
    "for i in range(2,n):\n",
    "    if n%i==0:\n",
    "        flag=1;\n",
    "        break;\n",
    "if flag==0:\n",
    "    print(\"prime number\")\n",
    "else:\n",
    "    print(\"not a prime number\")"
   ]
  },
  {
   "cell_type": "code",
   "execution_count": 72,
   "metadata": {},
   "outputs": [
    {
     "name": "stdout",
     "output_type": "stream",
     "text": [
      "127\n",
      "Group A has 31\n",
      "Group A has 31\n",
      "Group A has 31\n",
      "Group A has 34\n"
     ]
    }
   ],
   "source": [
    "n=4\n",
    "m=int(input())\n",
    "if m%2==0:\n",
    "    x=int(m/n)\n",
    "    print(\"Group A has\",x);\n",
    "    print(\"Group A has\",x);\n",
    "    print(\"Group A has\",x);\n",
    "    print(\"Group A has\",x);\n",
    "else:\n",
    "    y=int(m/n)\n",
    "    print(\"Group A has\",y);\n",
    "    print(\"Group A has\",y);\n",
    "    print(\"Group A has\",y);\n",
    "    print(\"Group A has\",m-3*(y));"
   ]
  },
  {
   "cell_type": "code",
   "execution_count": 73,
   "metadata": {},
   "outputs": [
    {
     "name": "stdout",
     "output_type": "stream",
     "text": [
      "santhosh\n",
      "s nthosh\n"
     ]
    }
   ],
   "source": [
    "n=input()\n",
    "\n",
    "print(n.replace(n[1],\" \"))"
   ]
  },
  {
   "cell_type": "code",
   "execution_count": 74,
   "metadata": {},
   "outputs": [
    {
     "name": "stdout",
     "output_type": "stream",
     "text": [
      "10\n",
      "e\n"
     ]
    }
   ],
   "source": [
    "n=int(input())\n",
    "def cap(n):\n",
    "    for i in range(n):\n",
    "        x=chr(i+65)\n",
    "    print(x.lower())\n",
    "def small(n):\n",
    "    for i in range(n):\n",
    "        y=chr(i+97)\n",
    "    print(y.upper())\n",
    "        \n",
    "if n%2==0:\n",
    "    cap(int(n/2));\n",
    "else:\n",
    "    small(int((n/2)+1))"
   ]
  },
  {
   "cell_type": "code",
   "execution_count": null,
   "metadata": {},
   "outputs": [],
   "source": [
    "#encoding and decoding\n",
    "a=input()\n",
    "b=input()\n",
    "temp=0\n",
    "\n",
    "for i in a:\n",
    "    if i==\" \" or i==\",\":\n",
    "        continue\n",
    "    elif i.isdigit():\n",
    "        \n",
    "        temp=1\n",
    "        break;\n",
    "    elif i.isalpha():\n",
    "        a=a.replace(i,chr(ord(i)+5))\n",
    "    else:\n",
    "       \n",
    "        temp=1;\n",
    "\n",
    "if temp==1:\n",
    "    print(\"Invalid input\")\n",
    "else:\n",
    "    print(a)\n",
    "\n",
    "for i in b:\n",
    "    if i==\" \" or i==\",\":\n",
    "        continue\n",
    "    elif i.isdigit():\n",
    "        \n",
    "        temp=1\n",
    "        break;\n",
    "    elif i.isalpha():\n",
    "        b=b.replace(i,chr(ord(i)-5))\n",
    "    else:\n",
    "       \n",
    "        temp=1;\n",
    "\n",
    "if temp==1:\n",
    "    print(\"Invalid input\")\n",
    "else:\n",
    "    print(b)\n",
    "\n",
    "    \n",
    "    "
   ]
  },
  {
   "cell_type": "code",
   "execution_count": null,
   "metadata": {},
   "outputs": [],
   "source": [
    "#array sum\n",
    "list1=list(map(int,input.split()))\n",
    "print(list1)"
   ]
  },
  {
   "cell_type": "code",
   "execution_count": 7,
   "metadata": {},
   "outputs": [
    {
     "name": "stdout",
     "output_type": "stream",
     "text": [
      "3\n",
      "0\n",
      "12.12\n",
      "12.12\n",
      "12.43\n",
      "660.06\n",
      "0\n",
      "660.06\n"
     ]
    }
   ],
   "source": [
    "n=int(input())\n",
    "m=int(input())\n",
    "si=[]\n",
    "se=[]\n",
    "fair,rate=0,0\n",
    "if n!=0:\n",
    "    for i in range(n):\n",
    "        x=float(input())\n",
    "        si.append(x)\n",
    "if m!=0:\n",
    "    for i in range(m):\n",
    "        x=float(input())\n",
    "        se.append(x)\n",
    "if n!=0 or m!=0:\n",
    "    for i in si:\n",
    "        fair+=i*18\n",
    "    for i in se:\n",
    "        rate+=i*12\n",
    "    print(fair+rate)\n",
    "else:\n",
    "    print(\"invalid\")\n",
    "    \n",
    "\n"
   ]
  },
  {
   "cell_type": "code",
   "execution_count": 1,
   "metadata": {},
   "outputs": [
    {
     "name": "stdout",
     "output_type": "stream",
     "text": [
      "c\n",
      "1\n",
      "Welcome to CCD!\n",
      "Enjoy your Espresso Coffee!\n"
     ]
    }
   ],
   "source": [
    "coffee=[\"Espresso Coffee\",\"Cappuccino Coffee\",\"Latte Coffee\"]\n",
    "Tea=[\"plain tea\",\"Assam tea\",\"Ginger tea\",\"Cardamom Tea\",\"Masala Tea\",\"Lemon Tea\",\"Green Tea\",\"Organic Darjeeling Tea\"]\n",
    "soups=[\"Hot and Sour soup\",\"Veg corn soup\",\"tomato soup\",\"Spicy Tomato soup\"]\n",
    "Beverages=[\"Hot chocolate milk\",\"Badam milk\",\"Badam-pista Drink\"]\n",
    "m=input()\n",
    "if m=='c' or m== 't' or m=='s' or m=='b':\n",
    "    if m=='c':\n",
    "        sm=int(input())\n",
    "        if sm in range(len(coffee)):\n",
    "            print(\"Welcome to CCD!\\nEnjoy your {}!\".format(coffee[sm-1]))\n",
    "        else:\n",
    "            print(\"invalid\")\n",
    "    if m=='t':\n",
    "        sm=int(input())\n",
    "        if sm in range(len(Tea)):\n",
    "            print(\"Welcome to CCD!\\nEnjoy your {}!\".format(Tea[sm-1]))\n",
    "        else:\n",
    "            print(\"invalid\")\n",
    "    if m=='s':\n",
    "        sm=int(input())\n",
    "        if sm in range(len(soups)):\n",
    "            print(\"Welcome to CCD!\\nEnjoy your {}!\".format(soups[sm-1]))\n",
    "        else:\n",
    "            print(\"invalid\")\n",
    "    if m=='b':\n",
    "        sm=int(input())\n",
    "        if sm in range(len(Bevergaes)):\n",
    "            print(\"Welcome to CCD!\\nEnjoy your {}!\".format(Beverages[sm-1]))\n",
    "        else:\n",
    "            print(\"invalid\")\n",
    "else:\n",
    "    print(\"invalid\")\n",
    "        "
   ]
  },
  {
   "cell_type": "code",
   "execution_count": 2,
   "metadata": {},
   "outputs": [
    {
     "name": "stdout",
     "output_type": "stream",
     "text": [
      "100\n",
      "500\n",
      "153 370 371 407 "
     ]
    }
   ],
   "source": [
    "import math\n",
    "n1=int(input())\n",
    "n2=int(input())\n",
    "\n",
    "\n",
    "for i in range(n1,n2+1):\n",
    "        le=0\n",
    "        sum1=0\n",
    "        m=i;\n",
    "        while(m!=0):\n",
    "            #remainder=m%10;\n",
    "            le+=1;\n",
    "            m=m//10\n",
    "        n=i\n",
    "        while(n!=0):\n",
    "            remainder=n%10\n",
    "            sum1=sum1+math.pow(remainder,le)\n",
    "            n=n//10\n",
    "        if i==sum1:\n",
    "            print(i,end=\" \")"
   ]
  },
  {
   "cell_type": "code",
   "execution_count": 11,
   "metadata": {},
   "outputs": [
    {
     "name": "stdout",
     "output_type": "stream",
     "text": [
      "enter lowercase stringonlinestudy\n",
      "lmormvhgfwb\n"
     ]
    }
   ],
   "source": [
    "st=input(\"enter lowercase string\")\n",
    "sti=\"\"\n",
    "for i in range(len(st)):\n",
    "    if st[i].isupper():\n",
    "        continue\n",
    "    elif st[i].isdigit():\n",
    "        continue\n",
    "    elif st[i].islower():\n",
    "        x=97-ord(st[i])+122\n",
    "        #print(chr(x))\n",
    "        sti+=chr(x)\n",
    "        #print(st)\n",
    "    else:\n",
    "        print(\"spcl characters are not allowed\")\n",
    "print(sti)"
   ]
  },
  {
   "cell_type": "code",
   "execution_count": 1,
   "metadata": {},
   "outputs": [
    {
     "name": "stdout",
     "output_type": "stream",
     "text": [
      "7\n",
      "1 1 2 3 5 8 13 \n",
      "2\n",
      "5\n"
     ]
    }
   ],
   "source": [
    "n=int(input())\n",
    "li=[]\n",
    "if n>5 and n<=20:\n",
    "    a=0\n",
    "    b=1\n",
    "    o,e=0,0\n",
    "    while(n!=0):\n",
    "        c=a+b;\n",
    "        a=b;\n",
    "        b=c;\n",
    "        print(a,end=\" \")\n",
    "        li.append(a)\n",
    "        n=n-1\n",
    "    for i in li:\n",
    "        if i%2==0:\n",
    "            e+=1;\n",
    "        else:\n",
    "            o+=1\n",
    "    print(end=\"\\n\")\n",
    "    print(e,end=\"\\n\")\n",
    "    print(o)\n",
    "\n",
    "else:\n",
    "    print(\"Invalid input\")"
   ]
  },
  {
   "cell_type": "code",
   "execution_count": null,
   "metadata": {},
   "outputs": [],
   "source": [
    "import math\n",
    "dict1={'A':10,'B':11,'C':12,'D':13,'E':14,'F':15,'G':16}\n",
    "n=input()\n",
    "su=0\n",
    "x=len(n)\n",
    "j=0\n",
    "for i in n[::-1]:\n",
    "    if i in dict1.keys():\n",
    "        su+=dict1[i]*int(math.pow(17,j))\n",
    "        j=j+1\n",
    "    else:\n",
    "        su+=int(i)*int(math.pow(17,j))\n",
    "        j=j+1\n",
    "        \n",
    "print(su)"
   ]
  },
  {
   "cell_type": "code",
   "execution_count": 2,
   "metadata": {},
   "outputs": [
    {
     "name": "stdout",
     "output_type": "stream",
     "text": [
      "c\n",
      "1\n",
      "Welcome to CCD!\n",
      "Enjoy your Espresso Coffee!\n"
     ]
    }
   ],
   "source": [
    "coffee=[\"Espresso Coffee\",\"Cappuccino Coffee\",\"Latte Coffee\"]\n",
    "Tea=[\"plain tea\",\"Assam tea\",\"Ginger tea\",\"Cardamom Tea\",\"Masala Tea\",\"Lemon Tea\",\"Green Tea\",\"Organic Darjeeling Tea\"]\n",
    "soups=[\"Hot and Sour soup\",\"Veg corn soup\",\"tomato soup\",\"Spicy Tomato soup\"]\n",
    "Beverages=[\"Hot chocolate milk\",\"Badam milk\",\"Badam-pista Drink\"]\n",
    "m=input()\n",
    "if m=='c' or m== 't' or m=='s' or m=='b':\n",
    "    if m=='c':\n",
    "        sm=int(input())\n",
    "        if sm in range(len(coffee)):\n",
    "            print(\"Welcome to CCD!\\nEnjoy your {}!\".format(coffee[sm-1]))\n",
    "        else:\n",
    "            print(\"invalid\")\n",
    "    if m=='t':\n",
    "        sm=int(input())\n",
    "        if sm in range(len(Tea)):\n",
    "            print(\"Welcome to CCD!\\nEnjoy your {}!\".format(Tea[sm-1]))\n",
    "        else:\n",
    "            print(\"invalid\")\n",
    "    if m=='s':\n",
    "        sm=int(input())\n",
    "        if sm in range(len(soups)):\n",
    "            print(\"Welcome to CCD!\\nEnjoy your {}!\".format(soups[sm-1]))\n",
    "        else:\n",
    "            print(\"invalid\")\n",
    "    if m=='b':\n",
    "        sm=int(input())\n",
    "        if sm in range(len(Bevergaes)):\n",
    "            print(\"Welcome to CCD!\\nEnjoy your {}!\".format(Beverages[sm-1]))\n",
    "        else:\n",
    "            print(\"invalid\")\n",
    "else:\n",
    "    print(\"invalid\")"
   ]
  },
  {
   "cell_type": "code",
   "execution_count": 3,
   "metadata": {},
   "outputs": [
    {
     "name": "stdout",
     "output_type": "stream",
     "text": [
      "100\n",
      "500\n",
      "153 370 371 407 "
     ]
    }
   ],
   "source": [
    "import math\n",
    "n1=int(input())\n",
    "n2=int(input())\n",
    "\n",
    "\n",
    "for i in range(n1,n2+1):\n",
    "        le=0\n",
    "        sum1=0\n",
    "        m=i;\n",
    "        while(m!=0):\n",
    "            #remainder=m%10;\n",
    "            le+=1;\n",
    "            m=m//10\n",
    "        n=i\n",
    "        while(n!=0):\n",
    "            remainder=n%10\n",
    "            sum1=sum1+math.pow(remainder,le)\n",
    "            n=n//10\n",
    "        if i==sum1:\n",
    "            print(i,end=\" \")"
   ]
  },
  {
   "cell_type": "code",
   "execution_count": null,
   "metadata": {},
   "outputs": [],
   "source": [
    "n=int(input())\n",
    "m=int(input())\n",
    "si=[]\n",
    "se=[]\n",
    "fair,rate=0,0\n",
    "if n!=0:\n",
    "    for i in range(n):\n",
    "        x=float(input())\n",
    "        si.append(x)\n",
    "if m!=0:\n",
    "    for i in range(m):\n",
    "        x=float(input())\n",
    "        se.append(x)\n",
    "else:\n",
    "    print(\"invalid \")\n",
    "if n!=0 and m!=0:\n",
    "    for i in si:\n",
    "        fair+=i*18\n",
    "    for i in se:\n",
    "        rate+=i*12\n",
    "    print(fair+rate)\n",
    "else:\n",
    "    print(\"invalid\")"
   ]
  },
  {
   "cell_type": "code",
   "execution_count": null,
   "metadata": {},
   "outputs": [
    {
     "name": "stdout",
     "output_type": "stream",
     "text": [
      "nice\n"
     ]
    }
   ],
   "source": [
    "from collections import Counter\n",
    "n1=input()\n",
    "n2=input()\n",
    "r1=Counter(n1)\n",
    "r2=Counter(r2)\n",
    "if r1==r2:\n",
    "    print(\"1\")\n",
    "else:\n",
    "    print(\"0\")\n"
   ]
  },
  {
   "cell_type": "code",
   "execution_count": 11,
   "metadata": {},
   "outputs": [
    {
     "name": "stdout",
     "output_type": "stream",
     "text": [
      "6\n",
      "(1, 5)\n",
      "(2, 4)\n",
      "(3, 3)\n",
      "(4, 2)\n",
      "(5, 1)\n"
     ]
    }
   ],
   "source": [
    "#find possibilties of pairs such that abscissa and ordinate sum==k consider x and y are different means(1,2)!=(2,1)\n",
    "import itertools\n",
    "k=int(input())\n",
    "list1=[1,2,3,4,5,6]\n",
    "for var in itertools.product(list1,repeat=2):\n",
    "    if var[0]+var[1]==k:\n",
    "        print(var)"
   ]
  },
  {
   "cell_type": "code",
   "execution_count": 10,
   "metadata": {},
   "outputs": [
    {
     "name": "stdout",
     "output_type": "stream",
     "text": [
      "enter number of rows3\n",
      "enter number of columns3\n",
      "1 2 3 4 5 6 7 8 9\n",
      "[[1 2 3]\n",
      " [4 5 6]\n",
      " [7 8 9]]\n",
      "0\n",
      "[7 5 3]\n"
     ]
    }
   ],
   "source": [
    "#left diagonal and right diagonal sum's difference\n",
    "import numpy as np\n",
    "r1=int(input(\"enter number of rows\"))\n",
    "c1=int(input(\"enter number of columns\"))\n",
    "matrix=list(map(int,input().split()))\n",
    "matrix1=np.array(matrix).reshape(r1,c1)\n",
    "print(matrix1)\n",
    "print(abs(sum(np.diagonal(matrix1)))-(sum(np.fliplr(matrix1).diagonal())))\n",
    "print(np.flipud(matrix1).diagonal())"
   ]
  },
  {
   "cell_type": "code",
   "execution_count": null,
   "metadata": {},
   "outputs": [],
   "source": [
    "import itertools\n",
    "import datetime\n",
    "count=0\n",
    "list1=[\"Kolkata Knight Riders\",\"Chennai Super Kings\",\"Royal Challengers Bangalore\",\"Punjab kingS\"]\n",
    "list2=[\"Mumbai Indians\",\"Delhi Capitals\",\"Rajastah Royals\",\"Sun Risers Hyderabad\"]\n",
    "c=tuple(itertools.product(list1,list2))\n",
    "print(c)\n",
    "for var in itertools.combinations(list1+list2,2):\n",
    "    print(var[0],\"Vs\",var[1])\n",
    "for var in itertools.permutations(list1+list2,2):\n",
    "    count+=1\n",
    "    print(count,var[0],\"Vs\",var[1])"
   ]
  },
  {
   "cell_type": "code",
   "execution_count": 14,
   "metadata": {},
   "outputs": [
    {
     "name": "stdout",
     "output_type": "stream",
     "text": [
      "1 KolkataKnightRiders Vs ChennaiSuperKings\n",
      "2 KolkataKnightRiders Vs RoyalChallengersBangalore\n",
      "3 KolkataKnightRiders Vs PunjabkingS\n",
      "4 KolkataKnightRiders Vs MumbaiIndians\n",
      "5 KolkataKnightRiders Vs DelhiCapitals\n",
      "6 KolkataKnightRiders Vs RajastahRoyals\n",
      "7 KolkataKnightRiders Vs SunRisersHyderabad\n",
      "8 ChennaiSuperKings Vs KolkataKnightRiders\n",
      "9 ChennaiSuperKings Vs RoyalChallengersBangalore\n",
      "10 ChennaiSuperKings Vs PunjabkingS\n",
      "11 ChennaiSuperKings Vs MumbaiIndians\n",
      "12 ChennaiSuperKings Vs DelhiCapitals\n",
      "13 ChennaiSuperKings Vs RajastahRoyals\n",
      "14 ChennaiSuperKings Vs SunRisersHyderabad\n",
      "15 RoyalChallengersBangalore Vs KolkataKnightRiders\n",
      "16 RoyalChallengersBangalore Vs ChennaiSuperKings\n",
      "17 RoyalChallengersBangalore Vs PunjabkingS\n",
      "18 RoyalChallengersBangalore Vs MumbaiIndians\n",
      "19 RoyalChallengersBangalore Vs DelhiCapitals\n",
      "20 RoyalChallengersBangalore Vs RajastahRoyals\n",
      "21 RoyalChallengersBangalore Vs SunRisersHyderabad\n",
      "22 PunjabkingS Vs KolkataKnightRiders\n",
      "23 PunjabkingS Vs ChennaiSuperKings\n",
      "24 PunjabkingS Vs RoyalChallengersBangalore\n",
      "25 PunjabkingS Vs MumbaiIndians\n",
      "26 PunjabkingS Vs DelhiCapitals\n",
      "27 PunjabkingS Vs RajastahRoyals\n",
      "28 PunjabkingS Vs SunRisersHyderabad\n",
      "29 MumbaiIndians Vs KolkataKnightRiders\n",
      "30 MumbaiIndians Vs ChennaiSuperKings\n",
      "31 MumbaiIndians Vs RoyalChallengersBangalore\n",
      "32 MumbaiIndians Vs PunjabkingS\n",
      "33 MumbaiIndians Vs DelhiCapitals\n",
      "34 MumbaiIndians Vs RajastahRoyals\n",
      "35 MumbaiIndians Vs SunRisersHyderabad\n",
      "36 DelhiCapitals Vs KolkataKnightRiders\n",
      "37 DelhiCapitals Vs ChennaiSuperKings\n",
      "38 DelhiCapitals Vs RoyalChallengersBangalore\n",
      "39 DelhiCapitals Vs PunjabkingS\n",
      "40 DelhiCapitals Vs MumbaiIndians\n",
      "41 DelhiCapitals Vs RajastahRoyals\n",
      "42 DelhiCapitals Vs SunRisersHyderabad\n",
      "43 RajastahRoyals Vs KolkataKnightRiders\n",
      "44 RajastahRoyals Vs ChennaiSuperKings\n",
      "45 RajastahRoyals Vs RoyalChallengersBangalore\n",
      "46 RajastahRoyals Vs PunjabkingS\n",
      "47 RajastahRoyals Vs MumbaiIndians\n",
      "48 RajastahRoyals Vs DelhiCapitals\n",
      "49 RajastahRoyals Vs SunRisersHyderabad\n",
      "50 SunRisersHyderabad Vs KolkataKnightRiders\n",
      "51 SunRisersHyderabad Vs ChennaiSuperKings\n",
      "52 SunRisersHyderabad Vs RoyalChallengersBangalore\n",
      "53 SunRisersHyderabad Vs PunjabkingS\n",
      "54 SunRisersHyderabad Vs MumbaiIndians\n",
      "55 SunRisersHyderabad Vs DelhiCapitals\n",
      "56 SunRisersHyderabad Vs RajastahRoyals\n"
     ]
    }
   ],
   "source": [
    "import itertools\n",
    "count=0\n",
    "list1=[\"KolkataKnightRiders\",\"ChennaiSuperKings\",\"RoyalChallengersBangalore\",\"PunjabkingS\"]\n",
    "list2=[\"MumbaiIndians\",\"DelhiCapitals\",\"RajastahRoyals\",\"SunRisersHyderabad\"]\n",
    "for var in itertools.permutations(list1+list2,2):\n",
    "    count+=1\n",
    "    print(count,var[0],\"Vs\",var[1])"
   ]
  },
  {
   "cell_type": "code",
   "execution_count": null,
   "metadata": {},
   "outputs": [],
   "source": [
    "import numpy as np\n",
    "t=int(input(\"enter t value\"))\n",
    "lis=[]\n",
    "for i in range(t):\n",
    "    print(\"running t\",i)\n",
    "    matrix=[]\n",
    "    n=int(input(\"enter matrix range\"))\n",
    "    for i in range(n):\n",
    "        a=list(map(int,input().split()))\n",
    "    matrix.append(a)\n",
    "    print(\"matrix\",i)\n",
    "    for i in range(n):\n",
    "            if i%2==0:\n",
    "                print(matrix[i][0:n+1],end=\" \")\n",
    "                break\n",
    "            else:\n",
    "                print(matrix[i][::-1])\n",
    "                break\n",
    "#for i in range(t):\n",
    "        \n",
    "            \n",
    "\n",
    "      \n",
    "        "
   ]
  },
  {
   "cell_type": "markdown",
   "metadata": {},
   "source": [
    "dup=[]\n",
    "        for i in range(n):\n",
    "             for j in range(n):\n",
    "                if i%2==0:\n",
    "                    for x in list(matrix[i][0:n+1]):\n",
    "                        lis.append(x)\n",
    "            \n",
    "                else:\n",
    "                    for x in list(matrix[i][::-1]):\n",
    "                        lis.append(x)\n",
    "        for var in lis:\n",
    "            if var not in dup:\n",
    "                dup.append(var)\n",
    "            else:\n",
    "                continue\n",
    "        for var in dup:\n",
    "            print(var,end=\" \")\n",
    "\n",
    "\n",
    "\n",
    "\n",
    "\n",
    "\n",
    "\n",
    "\n"
   ]
  },
  {
   "cell_type": "code",
   "execution_count": 11,
   "metadata": {},
   "outputs": [
    {
     "name": "stdout",
     "output_type": "stream",
     "text": [
      "3\n",
      "[0 1 2] [[6 7 8]\n",
      " [3 4 5]\n",
      " [0 1 2]] [6 7 8] "
     ]
    }
   ],
   "source": [
    "import numpy as np\n",
    "n=int(input())\n",
    "matrix=np.arange(n*n).reshape(n,n)\n",
    "#print(matrix)\n",
    "for i in range(n):\n",
    "    if i%2==0:\n",
    "        print(matrix[i],end=\" \")\n",
    "    else:\n",
    "        print(matrix[::-i],end=\" \")\n"
   ]
  },
  {
   "cell_type": "code",
   "execution_count": 8,
   "metadata": {},
   "outputs": [
    {
     "name": "stdout",
     "output_type": "stream",
     "text": [
      "the quick brown fox jumps over the lazy dog\n",
      "panagram\n"
     ]
    }
   ],
   "source": [
    "#pangram program\n",
    "string=input()\n",
    "temp=0\n",
    "allchar=\"abcdefghijklmnopqrstuvwxyz\"\n",
    "for var in allchar:\n",
    "    if var not in string.lower():\n",
    "        temp=1\n",
    "        break\n",
    "    else:\n",
    "        continue;\n",
    "if temp==1:\n",
    "    print(\"not panagram\")\n",
    "else:\n",
    "    print(\"panagram\")"
   ]
  },
  {
   "cell_type": "code",
   "execution_count": 2,
   "metadata": {},
   "outputs": [
    {
     "name": "stdout",
     "output_type": "stream",
     "text": [
      "the quick brown fox jumps over the lazy DOG\n",
      "pangram\n"
     ]
    }
   ],
   "source": [
    "import string\n",
    "from string import ascii_lowercase as asclower\n",
    "def check(s):\n",
    "    return set(asclower)-set(s.lower())==set([])\n",
    "strng=input()\n",
    "if(check(strng)==True):\n",
    "     print(\"pangram\")\n",
    "else:\n",
    "    print(\"not pangram\")\n"
   ]
  },
  {
   "cell_type": "code",
   "execution_count": 1,
   "metadata": {},
   "outputs": [
    {
     "name": "stdout",
     "output_type": "stream",
     "text": [
      "4\n",
      "5\n"
     ]
    }
   ],
   "source": [
    "def staircase(n):\n",
    "    if n<=1:\n",
    "        return 1\n",
    "    else:\n",
    "        return staircase(n-1)+staircase(n-2)\n",
    "\n",
    "n=int(input())\n",
    "if n>24:\n",
    "    print(\"Wrong Input\")\n",
    "else:\n",
    "    print(staircase(n))"
   ]
  },
  {
   "cell_type": "code",
   "execution_count": 2,
   "metadata": {},
   "outputs": [
    {
     "name": "stdout",
     "output_type": "stream",
     "text": [
      "6\n",
      "1\n",
      "2\n",
      "3\n",
      "4\n",
      "5\n",
      "6\n",
      "[6, 1, 5, 2, 4, 3]\n"
     ]
    }
   ],
   "source": [
    "import collections \n",
    "n=int(input())\n",
    "list1=[]\n",
    "new=[]\n",
    "for i in range(n):\n",
    "    x=int(input())\n",
    "    list1.append(x)\n",
    "dq=collections.deque(list1)\n",
    "for i in range(0,len(list1)):\n",
    "    if i%2==0:\n",
    "        a=dq.pop()\n",
    "        new.append(a)\n",
    "    else:\n",
    "        a=dq.popleft()\n",
    "        new.append(a)\n",
    "print(new)"
   ]
  },
  {
   "cell_type": "code",
   "execution_count": 3,
   "metadata": {},
   "outputs": [
    {
     "name": "stdout",
     "output_type": "stream",
     "text": [
      "6\n",
      "1\n",
      "2\n",
      "3\n",
      "4\n",
      "5\n",
      "6\n",
      "[6, 1, 5, 2, 4, 3]\n"
     ]
    }
   ],
   "source": [
    "n=int(input())\n",
    "list1=[]\n",
    "new=[]\n",
    "for i in range(n):\n",
    "    x=int(input())\n",
    "    list1.append(x)\n",
    "#print(list1)\n",
    "max=len(list1)-1\n",
    "min=0\n",
    "for i in range(len(list1)):\n",
    "    if i%2==0:\n",
    "        new.append(list1[max])\n",
    "        max=max-1\n",
    "    else:\n",
    "        new.append(list1[min])\n",
    "        min=min+1\n",
    "print(new)\n",
    "        "
   ]
  },
  {
   "cell_type": "code",
   "execution_count": null,
   "metadata": {},
   "outputs": [],
   "source": [
    "import itertools\n",
    "num=int(input(\"enter no.of numbers\"))\n",
    "num2=int(input(\"enter number to look\"))\n",
    "S=int(input(\"enter subset range\"))\n",
    "list1=[]\n",
    "for i in range(num):\n",
    "    x=int(input())\n",
    "    list1.append(x)\n",
    "for var in itertools.permutations(list1,S):\n",
    "    print(var)\n",
    "    \n"
   ]
  },
  {
   "cell_type": "code",
   "execution_count": 5,
   "metadata": {},
   "outputs": [
    {
     "name": "stdout",
     "output_type": "stream",
     "text": [
      "145\n",
      "perfect  number\n"
     ]
    }
   ],
   "source": [
    "#finding a perfect number\n",
    "import math\n",
    "n=input()\n",
    "fact=0\n",
    "for i in range(len(n)):\n",
    "    fact=fact+int(math.factorial(int(n[i])))\n",
    "if int(n)==fact:\n",
    "    print(\"perfect  number\")\n",
    "else:\n",
    "    print(\"not a perfect number\")"
   ]
  },
  {
   "cell_type": "code",
   "execution_count": 11,
   "metadata": {},
   "outputs": [
    {
     "name": "stdout",
     "output_type": "stream",
     "text": [
      "496\n",
      "1\n",
      "2\n",
      "4\n",
      "8\n",
      "16\n",
      "31\n",
      "62\n",
      "124\n",
      "248\n",
      "perfect number\n"
     ]
    }
   ],
   "source": [
    "#perfect number\n",
    "n=int(input())\n",
    "sum1=0\n",
    "for i in range(1,n):\n",
    "    if n%i==0:\n",
    "        sum1+=i\n",
    "if sum1==n:\n",
    "    print(\"perfect number\")\n",
    "else:\n",
    "    print(\"not a perfect number\")"
   ]
  },
  {
   "cell_type": "code",
   "execution_count": 23,
   "metadata": {},
   "outputs": [
    {
     "name": "stdout",
     "output_type": "stream",
     "text": [
      "enter number of elements of array10\n",
      "1\n",
      "2\n",
      "3\n",
      "4\n",
      "5\n",
      "6\n",
      "7\n",
      "8\n",
      "9\n",
      "10\n",
      "20\n",
      "0\n",
      "0\n",
      "0\n"
     ]
    },
    {
     "ename": "IndexError",
     "evalue": "list index out of range",
     "output_type": "error",
     "traceback": [
      "\u001b[1;31m---------------------------------------------------------------------------\u001b[0m",
      "\u001b[1;31mIndexError\u001b[0m                                Traceback (most recent call last)",
      "\u001b[1;32m<ipython-input-23-5f7fd78d8a6f>\u001b[0m in \u001b[0;36m<module>\u001b[1;34m\u001b[0m\n\u001b[0;32m      9\u001b[0m     \u001b[0mfound\u001b[0m\u001b[1;33m=\u001b[0m\u001b[1;32mFalse\u001b[0m\u001b[1;33m;\u001b[0m\u001b[1;33m\u001b[0m\u001b[1;33m\u001b[0m\u001b[0m\n\u001b[0;32m     10\u001b[0m     \u001b[1;32mfor\u001b[0m \u001b[0mj\u001b[0m \u001b[1;32min\u001b[0m \u001b[0mrange\u001b[0m\u001b[1;33m(\u001b[0m\u001b[0mi\u001b[0m\u001b[1;33m,\u001b[0m\u001b[0mi\u001b[0m\u001b[1;33m+\u001b[0m\u001b[1;36m3\u001b[0m\u001b[1;33m)\u001b[0m\u001b[1;33m:\u001b[0m\u001b[1;33m\u001b[0m\u001b[1;33m\u001b[0m\u001b[0m\n\u001b[1;32m---> 11\u001b[1;33m         \u001b[1;32mif\u001b[0m \u001b[0msearch\u001b[0m\u001b[1;33m==\u001b[0m\u001b[0mlist1\u001b[0m\u001b[1;33m[\u001b[0m\u001b[0mj\u001b[0m\u001b[1;33m]\u001b[0m\u001b[1;33m:\u001b[0m\u001b[1;33m\u001b[0m\u001b[1;33m\u001b[0m\u001b[0m\n\u001b[0m\u001b[0;32m     12\u001b[0m             \u001b[0mfound\u001b[0m\u001b[1;33m=\u001b[0m\u001b[1;32mTrue\u001b[0m\u001b[1;33m\u001b[0m\u001b[1;33m\u001b[0m\u001b[0m\n\u001b[0;32m     13\u001b[0m     \u001b[1;32mif\u001b[0m \u001b[0mfound\u001b[0m\u001b[1;33m==\u001b[0m\u001b[1;32mTrue\u001b[0m\u001b[1;33m:\u001b[0m\u001b[1;33m\u001b[0m\u001b[1;33m\u001b[0m\u001b[0m\n",
      "\u001b[1;31mIndexError\u001b[0m: list index out of range"
     ]
    }
   ],
   "source": [
    "#to find an element is present in every non overlapping subsets of given array\n",
    "n=int(input(\"enter number of elements of array\"))\n",
    "list1=[]\n",
    "for i in range(n):\n",
    "    x=int(input())\n",
    "    list1.append(x)\n",
    "search=int(input())\n",
    "for i in range(0,n,3):\n",
    "    found=False;\n",
    "    for j in range(i,i+3):\n",
    "        if search==list1[j]:\n",
    "            found=True\n",
    "    if found==True:\n",
    "        continue\n",
    "    else:\n",
    "        print(\"0\")\n",
    "        exit()\n",
    "print(\"1\")"
   ]
  },
  {
   "cell_type": "code",
   "execution_count": 17,
   "metadata": {},
   "outputs": [
    {
     "name": "stdout",
     "output_type": "stream",
     "text": [
      "nice\n",
      "china\n",
      "0\n"
     ]
    }
   ],
   "source": [
    "#check is two strings are equal and if so print ocuurence of given charater in first string\n",
    "str1=input()\n",
    "str2=input()\n",
    "#char=input()\n",
    "if set(str1.lower())-set(str2.lower())==set([]):\n",
    "    print(\"1\")\n",
    "else:\n",
    "    print(\"0\")\n",
    "    "
   ]
  },
  {
   "cell_type": "code",
   "execution_count": 14,
   "metadata": {},
   "outputs": [
    {
     "name": "stdout",
     "output_type": "stream",
     "text": [
      "santhos\n",
      "s\n",
      "2\n"
     ]
    }
   ],
   "source": [
    "str1=input()\n",
    "str2=input()\n",
    "if str1[0]==str1[-1]:\n",
    "    print(str1.count(str2))\n",
    "else:\n",
    "    print(\"Wrong\")"
   ]
  },
  {
   "cell_type": "code",
   "execution_count": 1,
   "metadata": {},
   "outputs": [
    {
     "name": "stdout",
     "output_type": "stream",
     "text": [
      "santhosh\n",
      "santhosh\n",
      "t\n",
      "1\n"
     ]
    }
   ],
   "source": [
    "str1=input()\n",
    "str2=input()\n",
    "char=input()\n",
    "if set(str1.lower())-set(str2.lower())==set([]):\n",
    "    print(str1.count(char))\n",
    "else:\n",
    "    print(\"no match\")\n",
    "    "
   ]
  },
  {
   "cell_type": "code",
   "execution_count": 13,
   "metadata": {},
   "outputs": [
    {
     "name": "stdout",
     "output_type": "stream",
     "text": [
      "Enter the no.of litres to fill the tank24\n",
      "Enter the distance covered-21\n",
      "-21 is an Invalid input\n"
     ]
    }
   ],
   "source": [
    "lit=int(input(\"Enter the no.of litres to fill the tank\"))\n",
    "dis=int(input(\"Enter the distance covered\"))\n",
    "if lit>0 and dis>0:\n",
    "    print(\"Litres/100KM\",end=\"\\n\")\n",
    "    print(round((100*lit)/dis,2))\n",
    "#print(round((100*lit)/dist),2)\n",
    "    dist=dis*0.6214\n",
    "#print(dist)\n",
    "    litr=lit*0.2642\n",
    "#print(litr)\n",
    "#print(100*0.6214)\n",
    "    print(\"Miles/gallons\",end=\"\\n\")\n",
    "    print(round(dist/litr,2))\n",
    "#print(round(((100*0.6214*litr)/(dist)),2)))\n",
    "elif lit>0:\n",
    "    print(dis,\"is an Invalid input\")\n",
    "else:\n",
    "    print(lit,\"is an Invalid input\")\n"
   ]
  },
  {
   "cell_type": "code",
   "execution_count": 15,
   "metadata": {},
   "outputs": [
    {
     "name": "stdout",
     "output_type": "stream",
     "text": [
      "Enter the number of pizzas bought10\n",
      "Enter the number of puffs bought12\n",
      "Enter the number of cool drinks bought5\n",
      "Bill Details\n",
      "\n",
      "\n",
      "No of pizzas: 10\n",
      "\n",
      "\n",
      "No of puffs: 12\n",
      "\n",
      "\n",
      "No of cool drinks: 5\n",
      "\n",
      "\n",
      "Total price= 1290\n",
      "\n",
      "\n",
      "ENJOY THE SHOW!!!\n"
     ]
    }
   ],
   "source": [
    "pizzas=int(input(\"Enter the number of pizzas bought\"))\n",
    "puffs=int(input(\"Enter the number of puffs bought\"))\n",
    "cooldrinks=int(input(\"Enter the number of cool drinks bought\"))\n",
    "print(\"Bill Details\")\n",
    "print(\"\\n\")\n",
    "print(\"No of pizzas:\",pizzas)\n",
    "print(\"\\n\")\n",
    "print(\"No of puffs:\",puffs)\n",
    "print(\"\\n\")\n",
    "print(\"No of cool drinks:\",cooldrinks)\n",
    "print(\"\\n\")\n",
    "print(\"Total price=\",pizzas*100+puffs*20+cooldrinks*10)\n",
    "print(\"\\n\")\n",
    "print(\"ENJOY THE SHOW!!!\")\n",
    "\n"
   ]
  },
  {
   "cell_type": "code",
   "execution_count": 1,
   "metadata": {},
   "outputs": [
    {
     "name": "stdout",
     "output_type": "stream",
     "text": [
      "115\n",
      "116\n",
      "101\n",
      "112\n",
      "115 s\n",
      "116 t\n",
      "101 e\n",
      "112 p\n"
     ]
    }
   ],
   "source": [
    "n=4\n",
    "list1=[]\n",
    "for i in range(n):\n",
    "    x=int(input())\n",
    "    list1.append(x)\n",
    "for var in list1:\n",
    "    print(var,chr(var),end=\"\\n\")\n"
   ]
  },
  {
   "cell_type": "code",
   "execution_count": 3,
   "metadata": {},
   "outputs": [
    {
     "name": "stdout",
     "output_type": "stream",
     "text": [
      "45\n",
      "90\n",
      "55\n",
      "Highest placement\n",
      "ECE\n"
     ]
    }
   ],
   "source": [
    "CSE=int(input())\n",
    "ECE=int(input())\n",
    "MECH=int(input())\n",
    "if CSE>=0 and ECE>=0 and MECH>=0:\n",
    "    if (CSE!=(ECE!=MECH)):\n",
    "        if CSE>ECE and CSE>MECH:\n",
    "            print(\"Highest palcement\"+\"\\n\"+\"CSE\")\n",
    "        elif ECE>MECH:\n",
    "            print(\"Highest placement\"+\"\\n\"+\"ECE\")\n",
    "        else:\n",
    "            print(\"Highest placement\"+\"\\n\"+\"MECH\")\n",
    "    else:\n",
    "        print(\"None of the departments got highest no of placements\")\n",
    "else:\n",
    "    print(\"Invalid input\")\n"
   ]
  },
  {
   "cell_type": "code",
   "execution_count": 4,
   "metadata": {},
   "outputs": [
    {
     "name": "stdout",
     "output_type": "stream",
     "text": [
      "45\n",
      "85\n",
      "85\n",
      "MECH\n",
      "ECE\n"
     ]
    }
   ],
   "source": [
    "CSE=int(input())\n",
    "ECE=int(input())\n",
    "MECH=int(input())\n",
    "x=max(CSE,ECE,MECH)\n",
    "if CSE>=0 and ECE>=0 and MECH>=0:\n",
    "    if (CSE!=(ECE!=MECH)):\n",
    "        if CSE==x:\n",
    "            print(\"CSE\")\n",
    "        if MECH==x:\n",
    "            print(\"MECH\")\n",
    "        if ECE==x:\n",
    "            print(\"ECE\")\n",
    "    else:\n",
    "        print(\"None of the departments got highest no of placements\")\n",
    "else:\n",
    "    print(\"Invalid input\")"
   ]
  },
  {
   "cell_type": "code",
   "execution_count": 15,
   "metadata": {},
   "outputs": [
    {
     "name": "stdout",
     "output_type": "stream",
     "text": [
      "Enter the month:7\n",
      "Season:Summer\n"
     ]
    }
   ],
   "source": [
    "dict1={1:\"Winter\",2:\"Winter\",3:\"Spring\",4:\"Spring\",5:\"Spring\",6:\"Summer\",7:\"Summer\",8:\"Summer\",9:\"Autumn\",10:\"Autumn\",11:\"Autumn\",12:\"Winter\"}\n",
    "n=int(input(\"Enter the month:\"))\n",
    "if n in dict1.keys():\n",
    "    print(\"Season:\"+dict1[n])\n",
    "else:\n",
    "    print(\"Invalid month\")\n",
    "    "
   ]
  },
  {
   "cell_type": "code",
   "execution_count": 17,
   "metadata": {},
   "outputs": [
    {
     "name": "stdout",
     "output_type": "stream",
     "text": [
      "-2\n",
      "20\n",
      "Invalid input\n",
      "None\n"
     ]
    }
   ],
   "source": [
    "n=int(input())\n",
    "m=int(input())\n",
    "def differenceofSum(n,m):\n",
    "  \n",
    "    if n>0 and m>0:\n",
    "        div,dive=0,0\n",
    "        for i in range(1,m+1):\n",
    "            if i%n!=0:\n",
    "                div=div+i\n",
    "            else:\n",
    "                dive=dive+i\n",
    "        return (abs(div-dive))\n",
    "    else:\n",
    "        print(\"Invalid input\")\n",
    "    \n",
    "x=differenceofSum(n,m)\n",
    "print(x)"
   ]
  },
  {
   "cell_type": "code",
   "execution_count": 22,
   "metadata": {},
   "outputs": [
    {
     "name": "stdout",
     "output_type": "stream",
     "text": [
      "7\n",
      "1\n",
      "8\n",
      "0\n",
      "2\n",
      "3\n",
      "5\n",
      "6\n",
      "[0, 1, 3, 6]\n",
      "[2, 5, 8]\n",
      "8\n"
     ]
    }
   ],
   "source": [
    "n=int(input())\n",
    "list1=[]\n",
    "list2=[]\n",
    "list3=[]\n",
    "if n==0 or n<=3:\n",
    "    print(\"0\")\n",
    "else:\n",
    "    for i in range(n):\n",
    "        x=int(input())\n",
    "        list1.append(x)\n",
    "    for i in range(len(list1)):\n",
    "        if i%2==0:\n",
    "            list2.append(list1[i])\n",
    "        else:\n",
    "            list3.append(list1[i])\n",
    "    list2.sort()\n",
    "    list3.sort()\n",
    "    #print(list2)\n",
    "    #print(list3)\n",
    "    print(list2[-2]+list3[-2])\n",
    "\n",
    "    "
   ]
  },
  {
   "cell_type": "code",
   "execution_count": 11,
   "metadata": {},
   "outputs": [
    {
     "name": "stdout",
     "output_type": "stream",
     "text": [
      "9 8 3 -7 3 9\n",
      "4\n",
      "(9, -7)\n",
      "(8, -7)\n",
      "(3, -7)\n",
      "(-7, 3)\n",
      "(-7, 9)\n",
      "(9, -7, 3)\n",
      "(9, -7, 9)\n",
      "(8, -7, 3)\n",
      "(8, -7, 9)\n",
      "(3, -7, 3)\n",
      "(3, -7, 9)\n",
      "(-7, 3, 9)\n",
      "(9, -7, 3, 9)\n",
      "(8, -7, 3, 9)\n",
      "(3, -7, 3, 9)\n",
      "[-63, -63, -63, -63, -63, -56, -56, -56, -56, -21, -21, -21, -21, -21, -21]\n",
      "-63\n"
     ]
    }
   ],
   "source": [
    "import itertools\n",
    "#n=int(input())\n",
    "list1=list(map(int,input().split()))\n",
    "sum1=int(input())\n",
    "list2=[]\n",
    "x=len(list1)\n",
    "for i in range(2,len(list1)+1):\n",
    "    for var in itertools.combinations(list1,i):\n",
    "        #print(var)\n",
    "        if var[0]+var[1]<=sum1:\n",
    "            print(var)\n",
    "            list2.append(var[0]*var[1])\n",
    "        else:\n",
    "            continue\n",
    "list2.sort()\n",
    "print(list2)\n",
    "print(list2[0])\n",
    "        \n"
   ]
  },
  {
   "cell_type": "code",
   "execution_count": 4,
   "metadata": {},
   "outputs": [
    {
     "name": "stdout",
     "output_type": "stream",
     "text": [
      "9 8 3 -7 3 9\n",
      "4\n",
      "( 9 8 )\n",
      "( 8 3 )\n",
      "( 3 -7 )\n",
      "-21\n"
     ]
    }
   ],
   "source": [
    "list1=list(map(int,input().split()))\n",
    "sum1=int(input())\n",
    "for i in range(len(list1)-1):\n",
    "    print(\"(\",list1[i],list1[i+1],\")\")\n",
    "    if list1[i]+list1[i+1]<=sum1:\n",
    "        print(list1[i]*list1[i+1])\n",
    "        break\n",
    "    else:\n",
    "        continue\n",
    "\n"
   ]
  },
  {
   "cell_type": "code",
   "execution_count": 4,
   "metadata": {},
   "outputs": [
    {
     "name": "stdout",
     "output_type": "stream",
     "text": [
      "21\n",
      "5678\n",
      "CI8\n"
     ]
    }
   ],
   "source": [
    "n=int(input())\n",
    "num=int(input())\n",
    "list1=[]\n",
    "str1=\"\"\n",
    "if n>1 and n<=36:\n",
    "    while(num!=0):\n",
    "        remainder=num%n\n",
    "        num=num//n\n",
    "        if remainder>=0 and remainder<10:\n",
    "            str1+=str(remainder)\n",
    "        else:\n",
    "            x=remainder-9+64\n",
    "            str1+=chr(x)\n",
    "    print(str1[::-1])\n",
    "        \n",
    "else:\n",
    "    print(\"Invalid number\")"
   ]
  },
  {
   "cell_type": "code",
   "execution_count": 6,
   "metadata": {},
   "outputs": [
    {
     "name": "stdout",
     "output_type": "stream",
     "text": [
      "move-hypens-to-front\n",
      "---movehypenstofront\n"
     ]
    }
   ],
   "source": [
    "str1=input()\n",
    "str2=\"\"\n",
    "str3=\"\"\n",
    "for i in str1:\n",
    "    if i==\"-\":\n",
    "        str2+=i\n",
    "    else:\n",
    "        str3=str3+i\n",
    "print(str2+str3)\n",
    "        "
   ]
  },
  {
   "cell_type": "code",
   "execution_count": 21,
   "metadata": {},
   "outputs": [
    {
     "name": "stdout",
     "output_type": "stream",
     "text": [
      "23\n",
      "563\n"
     ]
    },
    {
     "ename": "TypeError",
     "evalue": "can only concatenate tuple (not \"int\") to tuple",
     "output_type": "error",
     "traceback": [
      "\u001b[1;31m---------------------------------------------------------------------------\u001b[0m",
      "\u001b[1;31mTypeError\u001b[0m                                 Traceback (most recent call last)",
      "\u001b[1;32m<ipython-input-21-a77010697053>\u001b[0m in \u001b[0;36m<module>\u001b[1;34m\u001b[0m\n\u001b[0;32m     21\u001b[0m         \u001b[0mnum2\u001b[0m\u001b[1;33m=\u001b[0m\u001b[0mnum2\u001b[0m\u001b[1;33m//\u001b[0m\u001b[1;36m10\u001b[0m\u001b[1;33m\u001b[0m\u001b[1;33m\u001b[0m\u001b[0m\n\u001b[0;32m     22\u001b[0m     \u001b[1;32mreturn\u001b[0m \u001b[0mcount\u001b[0m\u001b[1;33m\u001b[0m\u001b[1;33m\u001b[0m\u001b[0m\n\u001b[1;32m---> 23\u001b[1;33m \u001b[0mprint\u001b[0m\u001b[1;33m(\u001b[0m\u001b[0mCarries\u001b[0m\u001b[1;33m(\u001b[0m\u001b[0mn1\u001b[0m\u001b[1;33m,\u001b[0m\u001b[0mn2\u001b[0m\u001b[1;33m)\u001b[0m\u001b[1;33m)\u001b[0m\u001b[1;33m\u001b[0m\u001b[1;33m\u001b[0m\u001b[0m\n\u001b[0m\u001b[0;32m     24\u001b[0m \u001b[1;31m#print(z)\u001b[0m\u001b[1;33m\u001b[0m\u001b[1;33m\u001b[0m\u001b[1;33m\u001b[0m\u001b[0m\n",
      "\u001b[1;32m<ipython-input-21-a77010697053>\u001b[0m in \u001b[0;36mCarries\u001b[1;34m(num1, num2)\u001b[0m\n\u001b[0;32m     10\u001b[0m         \u001b[0my\u001b[0m\u001b[1;33m=\u001b[0m\u001b[0mnum2\u001b[0m\u001b[1;33m%\u001b[0m\u001b[1;36m10\u001b[0m\u001b[1;33m\u001b[0m\u001b[1;33m\u001b[0m\u001b[0m\n\u001b[0;32m     11\u001b[0m         \u001b[1;31m#print(y)\u001b[0m\u001b[1;33m\u001b[0m\u001b[1;33m\u001b[0m\u001b[1;33m\u001b[0m\u001b[0m\n\u001b[1;32m---> 12\u001b[1;33m         \u001b[0msum1\u001b[0m\u001b[1;33m=\u001b[0m\u001b[0mcarry\u001b[0m\u001b[1;33m+\u001b[0m\u001b[0mx\u001b[0m\u001b[1;33m+\u001b[0m\u001b[0my\u001b[0m\u001b[1;33m\u001b[0m\u001b[1;33m\u001b[0m\u001b[0m\n\u001b[0m\u001b[0;32m     13\u001b[0m         \u001b[1;31m#print(sum1)\u001b[0m\u001b[1;33m\u001b[0m\u001b[1;33m\u001b[0m\u001b[1;33m\u001b[0m\u001b[0m\n\u001b[0;32m     14\u001b[0m         \u001b[1;31m#print(carry)\u001b[0m\u001b[1;33m\u001b[0m\u001b[1;33m\u001b[0m\u001b[1;33m\u001b[0m\u001b[0m\n",
      "\u001b[1;31mTypeError\u001b[0m: can only concatenate tuple (not \"int\") to tuple"
     ]
    }
   ],
   "source": [
    "n1=int(input())\n",
    "n2=int(input())\n",
    "def Carries(num1,num2):\n",
    "    carry=0,\n",
    "    count=0,\n",
    "    while(num1!=0 and num2!=0):\n",
    "        sum1=0\n",
    "        x=num1%10\n",
    "       # print(x)\n",
    "        y=num2%10\n",
    "        #print(y)\n",
    "        sum1=carry+x+y\n",
    "        #print(sum1)\n",
    "        #print(carry)\n",
    "        if sum1>9:\n",
    "            carry=1\n",
    "            count=count+1\n",
    "        else:\n",
    "            carry=0\n",
    "        num1=num1//10\n",
    "        num2=num2//10\n",
    "    return count\n",
    "print(Carries(n1,n2))\n",
    "#print(z)"
   ]
  },
  {
   "cell_type": "code",
   "execution_count": 17,
   "metadata": {},
   "outputs": [
    {
     "name": "stdout",
     "output_type": "stream",
     "text": [
      "7\n"
     ]
    }
   ],
   "source": [
    "def add(x,y):\n",
    "    return x+y\n",
    "print(add(3,4))"
   ]
  },
  {
   "cell_type": "code",
   "execution_count": 27,
   "metadata": {},
   "outputs": [
    {
     "name": "stdout",
     "output_type": "stream",
     "text": [
      "santhosh\n",
      "b\n",
      "c\n",
      "santhosh\n",
      "\n"
     ]
    }
   ],
   "source": [
    "user=input()\n",
    "ch1=input()\n",
    "ch2=input()\n",
    "str2=\"\"\n",
    "if user==\"\":\n",
    "    print(\"null\")\n",
    "elif (ch1==ch2) or (ch1 not in user and ch2 not in user):\n",
    "    print(user)\n",
    "else:\n",
    "    for i in user:\n",
    "        if i==ch1:\n",
    "            str2+=ch2\n",
    "        elif i==ch2:\n",
    "            str2+=ch1\n",
    "        else:\n",
    "            str2+=i\n",
    "print(str2)\n",
    "    "
   ]
  },
  {
   "cell_type": "code",
   "execution_count": 31,
   "metadata": {},
   "outputs": [
    {
     "name": "stdout",
     "output_type": "stream",
     "text": [
      "2\n",
      "16\n",
      "20\n",
      "-4\n"
     ]
    }
   ],
   "source": [
    "c=int(input())\n",
    "a=int(input())\n",
    "b=int(input())\n",
    "def OperationChoices(c,a,b):\n",
    "    if c==1:\n",
    "        return a+b\n",
    "    elif c==2:\n",
    "        return a-b\n",
    "    elif c==3:\n",
    "        return a*b\n",
    "    elif c==4:\n",
    "        return a//b\n",
    "print(OperationChoices(c,a,b))"
   ]
  },
  {
   "cell_type": "code",
   "execution_count": 35,
   "metadata": {},
   "outputs": [
    {
     "name": "stdout",
     "output_type": "stream",
     "text": [
      "100\n",
      "160\n",
      "510\n"
     ]
    }
   ],
   "source": [
    "m=int(input())\n",
    "n=int(input())\n",
    "if m>0 and m<=n:\n",
    "    sum1=0\n",
    "    for i in range(m,n+1):\n",
    "        if i%3==0 and i%5==0:\n",
    "            sum1=sum1+i\n",
    "        else:\n",
    "            continue\n",
    "    print(sum1)\n",
    "    "
   ]
  },
  {
   "cell_type": "code",
   "execution_count": 38,
   "metadata": {},
   "outputs": [
    {
     "name": "stdout",
     "output_type": "stream",
     "text": [
      "5\n",
      "enter the element at0index:3\n",
      "enter the element at1index:4\n",
      "enter the element at2index:1\n",
      "enter the element at3index:7\n",
      "enter the element at4index:9\n",
      "10\n"
     ]
    }
   ],
   "source": [
    "n=int(input())\n",
    "list1=[]\n",
    "list2=[]\n",
    "list3=[]\n",
    "for i in range(n):\n",
    "    x=int(input(\"enter the element at\"+str(i)+\"index:\"))\n",
    "    list1.append(x)\n",
    "for i in range(len(list1)):\n",
    "    if i%2==0:\n",
    "        list2.append(list1[i])\n",
    "    else:\n",
    "        list3.append(list1[i])\n",
    "list2.sort()\n",
    "list3.sort()\n",
    "print(list2[1]+list3[1])"
   ]
  },
  {
   "cell_type": "code",
   "execution_count": 43,
   "metadata": {},
   "outputs": [
    {
     "name": "stdout",
     "output_type": "stream",
     "text": [
      "100\n",
      "200\n",
      "101 111 121 131 141 151 161 171 181 191 "
     ]
    }
   ],
   "source": [
    "#to print range of palindrome numbers\n",
    "m=int(input())\n",
    "n=int(input())\n",
    "for i in range(m,n+1):\n",
    "    x=str(i)\n",
    "    if x==x[::-1]:\n",
    "        print(i,end=\" \")\n"
   ]
  },
  {
   "cell_type": "code",
   "execution_count": 4,
   "metadata": {},
   "outputs": [
    {
     "name": "stdout",
     "output_type": "stream",
     "text": [
      "20\n",
      "3 4 5\n",
      "5 12 13\n",
      "6 8 10\n",
      "8 15 17\n",
      "9 12 15\n",
      "12 16 20\n"
     ]
    }
   ],
   "source": [
    "#find possible pythogaran triplet in given range\n",
    "n=int(input())\n",
    "for i in range(1,n+1):\n",
    "    for j in range(i+1,n+1):\n",
    "        for k in range(j+1,n+1):\n",
    "            if ((i**2)+(j**2)==(k**2)):\n",
    "                print(i,j,k)\n"
   ]
  },
  {
   "cell_type": "code",
   "execution_count": 8,
   "metadata": {},
   "outputs": [
    {
     "name": "stdout",
     "output_type": "stream",
     "text": [
      "enter number of rows of first matrix3\n",
      "enter number of columns of first matrix2\n",
      "1 2 3 4 5 6\n",
      "enter number of rows of second matrix3\n",
      "enter number of columns of second matrix3\n",
      "1 2 3 4 5 6 7 8 9\n",
      "two matrices are not identical\n"
     ]
    }
   ],
   "source": [
    "import numpy as np\n",
    "r1=int(input(\"enter number of rows of first matrix\"))\n",
    "c1=int(input(\"enter number of columns of first matrix\"))\n",
    "list1=list(map(int,input().split()))\n",
    "matrix1=np.array(list1).reshape(r1,c1)\n",
    "r2=int(input(\"enter number of rows of second matrix\"))\n",
    "c2=int(input(\"enter number of columns of second matrix\"))\n",
    "list2=list(map(int,input().split()))\n",
    "matrix2=np.array(list2).reshape(r2,c2)\n",
    "if np.array_equal(matrix1,matrix2):\n",
    "    print(\"two matrices are identical\")\n",
    "else:\n",
    "    print(\"two matrices are not identical\")\n"
   ]
  },
  {
   "cell_type": "code",
   "execution_count": 13,
   "metadata": {},
   "outputs": [
    {
     "name": "stdout",
     "output_type": "stream",
     "text": [
      "enter number of rows of first matrix3\n",
      "enter number of columns of first matrix2\n",
      "1 2 3 4 5 6\n",
      "enter number of rows of second matrix2\n",
      "enter number of columns of second matrix2\n",
      "1 2 3 4\n",
      "matrices are not identical\n"
     ]
    }
   ],
   "source": [
    "import numpy\n",
    "r1=int(input(\"enter number of rows of first matrix\"))\n",
    "c1=int(input(\"enter number of columns of first matrix\"))\n",
    "list1=list(map(int,input().split()))\n",
    "matrix1=np.array(list1).reshape(r1,c1)\n",
    "r2=int(input(\"enter number of rows of second matrix\"))\n",
    "c2=int(input(\"enter number of columns of second matrix\"))\n",
    "list2=list(map(int,input().split()))\n",
    "matrix2=np.array(list2).reshape(r2,c2)\n",
    "if r1==r2 and c1==c2:\n",
    "    for i in range(r1):\n",
    "        for j in range(c1):\n",
    "            if matrix1[i][j]==matrix2[i][j]:\n",
    "                continue\n",
    "            else:\n",
    "                print(\"matices are not identical\")\n",
    "                break\n",
    "else:\n",
    "    print(\"matrices are not identical\")\n",
    "        "
   ]
  },
  {
   "cell_type": "code",
   "execution_count": 16,
   "metadata": {},
   "outputs": [
    {
     "name": "stdout",
     "output_type": "stream",
     "text": [
      "4\n",
      "****\n",
      "\n",
      "****\n",
      "\n",
      "****\n",
      "\n",
      "****\n",
      "\n"
     ]
    }
   ],
   "source": [
    "n=int(input())\n",
    "for i in range(n):\n",
    "    for j in range(n):\n",
    "        print(\"*\",end=\"\")\n",
    "    print(\"\\n\")\n"
   ]
  },
  {
   "cell_type": "code",
   "execution_count": 22,
   "metadata": {},
   "outputs": [
    {
     "name": "stdout",
     "output_type": "stream",
     "text": [
      "4\n",
      "****\n",
      "*  *\n",
      "*  *\n",
      "****\n"
     ]
    }
   ],
   "source": [
    "n=int(input())\n",
    "for i in range(n):\n",
    "    for j in range(n):\n",
    "        if i==0 or j==0 or i==n-1 or j==n-1:\n",
    "            print(\"*\",end=\"\")\n",
    "        else:\n",
    "            print(end=\" \")\n",
    "    print(end=\"\\n\")"
   ]
  },
  {
   "cell_type": "code",
   "execution_count": 23,
   "metadata": {},
   "outputs": [
    {
     "name": "stdout",
     "output_type": "stream",
     "text": [
      "4\n",
      "*\n",
      "**\n",
      "***\n",
      "****\n"
     ]
    }
   ],
   "source": [
    "n=int(input())\n",
    "for i in range(n):\n",
    "    for j in range(i+1):\n",
    "        print(\"*\",end=\"\")\n",
    "    print(end=\"\\n\")"
   ]
  },
  {
   "cell_type": "code",
   "execution_count": 36,
   "metadata": {},
   "outputs": [
    {
     "name": "stdout",
     "output_type": "stream",
     "text": [
      "4\n",
      "\n",
      "\n",
      "\n",
      "\n",
      "*\n",
      "\n",
      "\n",
      "\n",
      "***\n",
      "\n",
      "\n",
      "*****\n",
      "\n",
      "*******\n"
     ]
    }
   ],
   "source": [
    "n=int(input())\n",
    "for i in range(n):\n",
    "    for j in range(n-i):\n",
    "        print(\"\")\n",
    "    for k in range((2*i)+1):\n",
    "        print(\"*\",end=\"\")\n",
    "    print(end=\"\\n\")\n",
    "        "
   ]
  },
  {
   "cell_type": "code",
   "execution_count": 20,
   "metadata": {},
   "outputs": [
    {
     "name": "stdout",
     "output_type": "stream",
     "text": [
      "abcabc\n",
      "xyz\n",
      "abcabc\n",
      "6\n"
     ]
    }
   ],
   "source": [
    "str1=input()\n",
    "str2=input()\n",
    "str3=\"\"\n",
    "def check(str1,str2,str6):\n",
    "    str3=\"\"\n",
    "    str1=str1.replace(str2,\" \")\n",
    "    for i in str1:\n",
    "        if i==\" \":\n",
    "            continue\n",
    "        else:\n",
    "            #print(i)\n",
    "            str3+=i\n",
    "            #print(str3)\n",
    "    #str3=str3.replace(str2,\"\")\n",
    "    #print(str3)\n",
    "    if str2 in str3:\n",
    "        check(str3,str2,\" \")\n",
    "    else:\n",
    "        print(str3)\n",
    "        print(len(str3))\n",
    "check(str1,str2,\" \")"
   ]
  },
  {
   "cell_type": "code",
   "execution_count": 23,
   "metadata": {},
   "outputs": [
    {
     "name": "stdout",
     "output_type": "stream",
     "text": [
      "xxyzyzvy\n",
      "xyz\n",
      "2\n",
      "vy\n"
     ]
    }
   ],
   "source": [
    "str1=input()\n",
    "str2=input()\n",
    "str3=\"\"\n",
    "def check(str1,str3):\n",
    "    str3=\"\"\n",
    "    str1=str1.replace(str2,\" \")\n",
    "   # print(str1)\n",
    "    for i in str1:\n",
    "        if i==\" \":\n",
    "            continue\n",
    "        else:\n",
    "            str3+=i\n",
    "    #print(str3)\n",
    "    #print(len(str3))\n",
    "    #str3=str3.replace(str2,\" \")\n",
    "    if str2 in str3:\n",
    "        check(str3,\" \")\n",
    "    else:\n",
    "        #print(str3)\n",
    "        print(len(str3))\n",
    "        print(str3)\n",
    "check(str1,\" \")"
   ]
  },
  {
   "cell_type": "code",
   "execution_count": 1,
   "metadata": {},
   "outputs": [
    {
     "name": "stdout",
     "output_type": "stream",
     "text": [
      "['as', 'assert', 'async', 'await', 'nonlocal', 'with']\n",
      "35\n"
     ]
    }
   ],
   "source": [
    "import keyword\n",
    "known_keyword=['False', 'None', 'True', 'and', 'break', 'class', 'continue', 'def', 'del', 'elif', 'else', 'except', 'finally', 'for', 'from', 'global', 'if', 'import', 'in', 'is', 'lambda',  'not', 'or', 'pass', 'raise', 'return', 'try', 'while', 'yield']\n",
    "unknown_keyword=[]\n",
    "for word in keyword.kwlist:\n",
    "    if word not in known_keyword:\n",
    "        unknown_keyword.append(word)\n",
    "print(unknown_keyword)\n",
    "print(len(known_keyword)+len(unknown_keyword))"
   ]
  },
  {
   "cell_type": "code",
   "execution_count": 2,
   "metadata": {},
   "outputs": [
    {
     "name": "stdout",
     "output_type": "stream",
     "text": [
      "enter the decimal number98\n",
      "1100010\n"
     ]
    }
   ],
   "source": [
    "#decimal number to binary conversion\n",
    "number=int(input(\"enter the decimal number\"))\n",
    "def binary(n):\n",
    "    str1=\"\"\n",
    "    while(n!=0):\n",
    "        x=n%2\n",
    "        str1+=str(x)\n",
    "        n=n//2\n",
    "    return str1\n",
    "        \n",
    "    \n",
    "x=binary(number)\n",
    "print(x[::-1])\n",
    "    "
   ]
  },
  {
   "cell_type": "code",
   "execution_count": 3,
   "metadata": {},
   "outputs": [
    {
     "name": "stdout",
     "output_type": "stream",
     "text": [
      "enter the decimal number98\n",
      "1100010"
     ]
    }
   ],
   "source": [
    "#decimal number to binary conversion\n",
    "number=int(input(\"enter the decimal number\"))\n",
    "def binary(n):\n",
    "    str1=\"\"\n",
    "    while(n!=0):\n",
    "        x=n%2\n",
    "        str1+=str(x)\n",
    "        n=n//2\n",
    "    return str1\n",
    "        \n",
    "    \n",
    "x=binary(number)\n",
    "y=len(x)\n",
    "while y!=0:\n",
    "    print(x[y-1],end=\"\")\n",
    "    y=y-1\n",
    "#print(x[::-1])"
   ]
  },
  {
   "cell_type": "code",
   "execution_count": 4,
   "metadata": {},
   "outputs": [
    {
     "name": "stdout",
     "output_type": "stream",
     "text": [
      "Enter binary value101101\n",
      "45\n"
     ]
    }
   ],
   "source": [
    "#converting from binary to decimal\n",
    "import math\n",
    "binary=int(input(\"Enter binary value\"))\n",
    "x=str(binary)\n",
    "j=0;\n",
    "sum1=0\n",
    "for i in x[::-1]:\n",
    "    sum1=sum1+int(math.pow(2,j)*int(i))\n",
    "    j=j+1\n",
    "print(sum1)\n",
    "    \n",
    "    "
   ]
  },
  {
   "cell_type": "code",
   "execution_count": 5,
   "metadata": {},
   "outputs": [
    {
     "name": "stdout",
     "output_type": "stream",
     "text": [
      "Enter number to find factorial15\n",
      "factorial of a number is: 1307674368000\n"
     ]
    }
   ],
   "source": [
    "#factorial of a number\n",
    "n=int(input(\"Enter number to find factorial\"))\n",
    "fact=1\n",
    "for i in range(1,n+1):\n",
    "    fact=fact*i;\n",
    "print(\"factorial of a number is:\",fact)"
   ]
  },
  {
   "cell_type": "code",
   "execution_count": 6,
   "metadata": {},
   "outputs": [
    {
     "name": "stdout",
     "output_type": "stream",
     "text": [
      "Enter a number to find 100\n",
      "2 3 5 7 11 13 17 19 23 29 31 37 41 43 47 53 59 61 67 71 73 79 83 89 97 "
     ]
    }
   ],
   "source": [
    "#prime numbers in a given range\n",
    "n=int(input(\"Enter a number to find \"))\n",
    "for i in range(2,n+1):\n",
    "    flag=0\n",
    "    for j in range(2,i):\n",
    "        if i%j==0:\n",
    "            flag=1\n",
    "            break;\n",
    "        else:\n",
    "            continue\n",
    "    if flag==0:\n",
    "        print(i,end=\" \")"
   ]
  },
  {
   "cell_type": "code",
   "execution_count": 7,
   "metadata": {},
   "outputs": [
    {
     "name": "stdout",
     "output_type": "stream",
     "text": [
      "Enter number157\n",
      "Given number is not Armstrong\n"
     ]
    }
   ],
   "source": [
    "#to find a given number is armstrong or not\n",
    "import math\n",
    "n=int(input(\"Enter number\"))\n",
    "sum1=0\n",
    "noofdigits=len(str(n))\n",
    "for i in str(n):\n",
    "    sum1+=int(math.pow(int(i),noofdigits))\n",
    "if sum1==n:\n",
    "    print(\"Given number is Armstrong:\",n)\n",
    "else:\n",
    "    print(\"Given number is not Armstrong\")"
   ]
  },
  {
   "cell_type": "code",
   "execution_count": 8,
   "metadata": {},
   "outputs": [
    {
     "name": "stdout",
     "output_type": "stream",
     "text": [
      "enter year1800\n",
      "Given year is not leap year 1800\n"
     ]
    }
   ],
   "source": [
    "#to find a year is leap year or not\n",
    "year=int(input(\"enter year\"))\n",
    "if year%4==0:\n",
    "    if year%100!=0:\n",
    "        print(\"Given year is leap year\",year)\n",
    "    elif year%400==0:\n",
    "        print(\"Given year is leap year\",year)\n",
    "    else:\n",
    "        print(\"Given year is not leap year\",year)\n",
    "else:\n",
    "    print(\"Given year is not leap year\")"
   ]
  },
  {
   "cell_type": "code",
   "execution_count": 9,
   "metadata": {},
   "outputs": [
    {
     "name": "stdout",
     "output_type": "stream",
     "text": [
      "2\n"
     ]
    }
   ],
   "source": [
    "#program to count spcl characters in a string\n",
    "a=\"gurusanthoshkumarmeda@gmail.com\"\n",
    "count=0\n",
    "for i in a:\n",
    "    if i.isalnum()==True:\n",
    "        continue;\n",
    "    else:\n",
    "        count+=1\n",
    "print(count)"
   ]
  },
  {
   "cell_type": "code",
   "execution_count": 10,
   "metadata": {},
   "outputs": [
    {
     "name": "stdout",
     "output_type": "stream",
     "text": [
      "['18001A0544', '18001A0513', '18005A0571'] ['19005A0503', '19005A0518']\n"
     ]
    }
   ],
   "source": [
    "#program to separate 18 series and 19 series\n",
    "li=[\"18001A0544\",\"18001A0513\",\"19005A0503\",\"18005A0571\",\"19005A0518\"]\n",
    "series18=[]\n",
    "series19=[]\n",
    "for i in li:\n",
    "    if i.startswith(\"19\"):\n",
    "        series19.append(i)\n",
    "    else:\n",
    "        series18.append(i)\n",
    "print(series18,series19)"
   ]
  },
  {
   "cell_type": "code",
   "execution_count": 11,
   "metadata": {},
   "outputs": [
    {
     "name": "stdout",
     "output_type": "stream",
     "text": [
      "Enter your last namesanthosh kumar\n",
      "enter your first namemeda\n",
      "meda santhosh kumar\n"
     ]
    }
   ],
   "source": [
    "#concatenation of first and last names\n",
    "str1=input(\"Enter your last name\")\n",
    "str2=input(\"enter your first name\")\n",
    "print(str2+\" \"+str1)"
   ]
  },
  {
   "cell_type": "code",
   "execution_count": 13,
   "metadata": {},
   "outputs": [
    {
     "name": "stdout",
     "output_type": "stream",
     "text": [
      "Enter sentenceI love lilly and miney\n",
      "lilly 5\n",
      "miney 5\n"
     ]
    }
   ],
   "source": [
    "#find word with maximum length in a given sentence and return its length and name of the word\n",
    "line=input(\"Enter sentence\")\n",
    "words=line.split()\n",
    "extra=words.copy()\n",
    "for i in range(len(words)):\n",
    "    for j in range(i+1,len(words)):\n",
    "        if len(words[i])<len(words[j]):\n",
    "            temp=words[i]\n",
    "            words[i]=words[j]\n",
    "            words[j]=temp\n",
    "                \n",
    "for i in extra:\n",
    "    if len(i)==len(words[0]):\n",
    "        print(i,len(words[0]))"
   ]
  },
  {
   "cell_type": "code",
   "execution_count": 1,
   "metadata": {},
   "outputs": [
    {
     "name": "stdout",
     "output_type": "stream",
     "text": [
      "100\n",
      "200\n",
      "153 "
     ]
    }
   ],
   "source": [
    "import math\n",
    "n1=int(input())\n",
    "n2=int(input())\n",
    "\n",
    "\n",
    "for i in range(n1,n2+1):\n",
    "        le=0\n",
    "        sum1=0\n",
    "        m=i;\n",
    "        while(m!=0):\n",
    "            #remainder=m%10;\n",
    "            le+=1;\n",
    "            m=m//10\n",
    "        n=i\n",
    "        while(n!=0):\n",
    "            remainder=n%10\n",
    "            sum1=sum1+math.pow(remainder,le)\n",
    "            n=n//10\n",
    "        if i==sum1:\n",
    "            print(i,end=\" \")"
   ]
  },
  {
   "cell_type": "code",
   "execution_count": 2,
   "metadata": {},
   "outputs": [
    {
     "name": "stdout",
     "output_type": "stream",
     "text": [
      "t\n",
      "9\n",
      "invalid\n"
     ]
    }
   ],
   "source": [
    "coffee=[\"Espresso Coffee\",\"Cappuccino Coffee\",\"Latte Coffee\"]\n",
    "Tea=[\"plain tea\",\"Assam tea\",\"Ginger tea\",\"Cardamom Tea\",\"Masala Tea\",\"Lemon Tea\",\"Green Tea\",\"Organic Darjeeling Tea\"]\n",
    "soups=[\"Hot and Sour soup\",\"Veg corn soup\",\"tomato soup\",\"Spicy Tomato soup\"]\n",
    "Beverages=[\"Hot chocolate milk\",\"Badam milk\",\"Badam-pista Drink\"]\n",
    "m=input()\n",
    "if m=='c' or m== 't' or m=='s' or m=='b':\n",
    "    if m=='c':\n",
    "        sm=int(input())\n",
    "        if sm in range(len(coffee)):\n",
    "            print(\"Welcome to CCD!\\nEnjoy your {}!\".format(coffee[sm-1]))\n",
    "        else:\n",
    "            print(\"invalid\")\n",
    "    if m=='t':\n",
    "        sm=int(input())\n",
    "        if sm in range(len(Tea)):\n",
    "            print(\"Welcome to CCD!\\nEnjoy your {}!\".format(Tea[sm-1]))\n",
    "        else:\n",
    "            print(\"invalid\")\n",
    "    if m=='s':\n",
    "        sm=int(input())\n",
    "        if sm in range(len(soups)):\n",
    "            print(\"Welcome to CCD!\\nEnjoy your {}!\".format(soups[sm-1]))\n",
    "        else:\n",
    "            print(\"invalid\")\n",
    "    if m=='b':\n",
    "        sm=int(input())\n",
    "        if sm in range(len(Bevergaes)):\n",
    "            print(\"Welcome to CCD!\\nEnjoy your {}!\".format(Beverages[sm-1]))\n",
    "        else:\n",
    "            print(\"invalid\")\n",
    "else:\n",
    "    print(\"invalid\")\n",
    "        \n",
    "        "
   ]
  },
  {
   "cell_type": "code",
   "execution_count": 3,
   "metadata": {},
   "outputs": [
    {
     "name": "stdout",
     "output_type": "stream",
     "text": [
      "23GF\n",
      "10980\n"
     ]
    }
   ],
   "source": [
    "import math\n",
    "dict1={'A':10,'B':11,'C':12,'D':13,'E':14,'F':15,'G':16}\n",
    "n=input()\n",
    "su=0\n",
    "x=len(n)\n",
    "j=0\n",
    "for i in n[::-1]:\n",
    "    if i in dict1.keys():\n",
    "        su+=dict1[i]*int(math.pow(17,j))\n",
    "        j=j+1\n",
    "    else:\n",
    "        su+=int(i)*int(math.pow(17,j))\n",
    "        j=j+1\n",
    "        \n",
    "print(su)\n",
    "        \n",
    "    \n",
    "    "
   ]
  },
  {
   "cell_type": "code",
   "execution_count": 4,
   "metadata": {},
   "outputs": [
    {
     "name": "stdout",
     "output_type": "stream",
     "text": [
      "6\n",
      "(1, 5)\n",
      "(2, 4)\n",
      "(3, 3)\n",
      "(4, 2)\n",
      "(5, 1)\n"
     ]
    }
   ],
   "source": [
    "import itertools\n",
    "k=int(input())\n",
    "list1=[1,2,3,4,5,6]\n",
    "for var in itertools.product(list1,repeat=2):\n",
    "    if var[0]+var[1]==k:\n",
    "        print(var)\n",
    "#print(a)"
   ]
  },
  {
   "cell_type": "code",
   "execution_count": 5,
   "metadata": {},
   "outputs": [
    {
     "name": "stdout",
     "output_type": "stream",
     "text": [
      "(('Kolkata Knight Riders', 'Mumbai Indians'), ('Kolkata Knight Riders', 'Delhi Capitals'), ('Kolkata Knight Riders', 'Rajastah Royals'), ('Kolkata Knight Riders', 'Sun Risers Hyderabad'), ('Chennai Super Kings', 'Mumbai Indians'), ('Chennai Super Kings', 'Delhi Capitals'), ('Chennai Super Kings', 'Rajastah Royals'), ('Chennai Super Kings', 'Sun Risers Hyderabad'), ('Royal Challengers Bangalore', 'Mumbai Indians'), ('Royal Challengers Bangalore', 'Delhi Capitals'), ('Royal Challengers Bangalore', 'Rajastah Royals'), ('Royal Challengers Bangalore', 'Sun Risers Hyderabad'), ('Punjab kingS', 'Mumbai Indians'), ('Punjab kingS', 'Delhi Capitals'), ('Punjab kingS', 'Rajastah Royals'), ('Punjab kingS', 'Sun Risers Hyderabad'))\n",
      "Kolkata Knight Riders Vs Chennai Super Kings\n",
      "Kolkata Knight Riders Vs Royal Challengers Bangalore\n",
      "Kolkata Knight Riders Vs Punjab kingS\n",
      "Kolkata Knight Riders Vs Mumbai Indians\n",
      "Kolkata Knight Riders Vs Delhi Capitals\n",
      "Kolkata Knight Riders Vs Rajastah Royals\n",
      "Kolkata Knight Riders Vs Sun Risers Hyderabad\n",
      "Chennai Super Kings Vs Royal Challengers Bangalore\n",
      "Chennai Super Kings Vs Punjab kingS\n",
      "Chennai Super Kings Vs Mumbai Indians\n",
      "Chennai Super Kings Vs Delhi Capitals\n",
      "Chennai Super Kings Vs Rajastah Royals\n",
      "Chennai Super Kings Vs Sun Risers Hyderabad\n",
      "Royal Challengers Bangalore Vs Punjab kingS\n",
      "Royal Challengers Bangalore Vs Mumbai Indians\n",
      "Royal Challengers Bangalore Vs Delhi Capitals\n",
      "Royal Challengers Bangalore Vs Rajastah Royals\n",
      "Royal Challengers Bangalore Vs Sun Risers Hyderabad\n",
      "Punjab kingS Vs Mumbai Indians\n",
      "Punjab kingS Vs Delhi Capitals\n",
      "Punjab kingS Vs Rajastah Royals\n",
      "Punjab kingS Vs Sun Risers Hyderabad\n",
      "Mumbai Indians Vs Delhi Capitals\n",
      "Mumbai Indians Vs Rajastah Royals\n",
      "Mumbai Indians Vs Sun Risers Hyderabad\n",
      "Delhi Capitals Vs Rajastah Royals\n",
      "Delhi Capitals Vs Sun Risers Hyderabad\n",
      "Rajastah Royals Vs Sun Risers Hyderabad\n",
      "1 Kolkata Knight Riders Vs Chennai Super Kings\n",
      "2 Kolkata Knight Riders Vs Royal Challengers Bangalore\n",
      "3 Kolkata Knight Riders Vs Punjab kingS\n",
      "4 Kolkata Knight Riders Vs Mumbai Indians\n",
      "5 Kolkata Knight Riders Vs Delhi Capitals\n",
      "6 Kolkata Knight Riders Vs Rajastah Royals\n",
      "7 Kolkata Knight Riders Vs Sun Risers Hyderabad\n",
      "8 Chennai Super Kings Vs Kolkata Knight Riders\n",
      "9 Chennai Super Kings Vs Royal Challengers Bangalore\n",
      "10 Chennai Super Kings Vs Punjab kingS\n",
      "11 Chennai Super Kings Vs Mumbai Indians\n",
      "12 Chennai Super Kings Vs Delhi Capitals\n",
      "13 Chennai Super Kings Vs Rajastah Royals\n",
      "14 Chennai Super Kings Vs Sun Risers Hyderabad\n",
      "15 Royal Challengers Bangalore Vs Kolkata Knight Riders\n",
      "16 Royal Challengers Bangalore Vs Chennai Super Kings\n",
      "17 Royal Challengers Bangalore Vs Punjab kingS\n",
      "18 Royal Challengers Bangalore Vs Mumbai Indians\n",
      "19 Royal Challengers Bangalore Vs Delhi Capitals\n",
      "20 Royal Challengers Bangalore Vs Rajastah Royals\n",
      "21 Royal Challengers Bangalore Vs Sun Risers Hyderabad\n",
      "22 Punjab kingS Vs Kolkata Knight Riders\n",
      "23 Punjab kingS Vs Chennai Super Kings\n",
      "24 Punjab kingS Vs Royal Challengers Bangalore\n",
      "25 Punjab kingS Vs Mumbai Indians\n",
      "26 Punjab kingS Vs Delhi Capitals\n",
      "27 Punjab kingS Vs Rajastah Royals\n",
      "28 Punjab kingS Vs Sun Risers Hyderabad\n",
      "29 Mumbai Indians Vs Kolkata Knight Riders\n",
      "30 Mumbai Indians Vs Chennai Super Kings\n",
      "31 Mumbai Indians Vs Royal Challengers Bangalore\n",
      "32 Mumbai Indians Vs Punjab kingS\n",
      "33 Mumbai Indians Vs Delhi Capitals\n",
      "34 Mumbai Indians Vs Rajastah Royals\n",
      "35 Mumbai Indians Vs Sun Risers Hyderabad\n",
      "36 Delhi Capitals Vs Kolkata Knight Riders\n",
      "37 Delhi Capitals Vs Chennai Super Kings\n",
      "38 Delhi Capitals Vs Royal Challengers Bangalore\n",
      "39 Delhi Capitals Vs Punjab kingS\n",
      "40 Delhi Capitals Vs Mumbai Indians\n",
      "41 Delhi Capitals Vs Rajastah Royals\n",
      "42 Delhi Capitals Vs Sun Risers Hyderabad\n",
      "43 Rajastah Royals Vs Kolkata Knight Riders\n",
      "44 Rajastah Royals Vs Chennai Super Kings\n",
      "45 Rajastah Royals Vs Royal Challengers Bangalore\n",
      "46 Rajastah Royals Vs Punjab kingS\n",
      "47 Rajastah Royals Vs Mumbai Indians\n",
      "48 Rajastah Royals Vs Delhi Capitals\n",
      "49 Rajastah Royals Vs Sun Risers Hyderabad\n",
      "50 Sun Risers Hyderabad Vs Kolkata Knight Riders\n",
      "51 Sun Risers Hyderabad Vs Chennai Super Kings\n",
      "52 Sun Risers Hyderabad Vs Royal Challengers Bangalore\n",
      "53 Sun Risers Hyderabad Vs Punjab kingS\n",
      "54 Sun Risers Hyderabad Vs Mumbai Indians\n",
      "55 Sun Risers Hyderabad Vs Delhi Capitals\n",
      "56 Sun Risers Hyderabad Vs Rajastah Royals\n"
     ]
    }
   ],
   "source": [
    "import itertools\n",
    "import datetime\n",
    "count=0\n",
    "list1=[\"Kolkata Knight Riders\",\"Chennai Super Kings\",\"Royal Challengers Bangalore\",\"Punjab kingS\"]\n",
    "list2=[\"Mumbai Indians\",\"Delhi Capitals\",\"Rajastah Royals\",\"Sun Risers Hyderabad\"]\n",
    "c=tuple(itertools.product(list1,list2))\n",
    "print(c)\n",
    "for var in itertools.combinations(list1+list2,2):\n",
    "    print(var[0],\"Vs\",var[1])\n",
    "for var in itertools.permutations(list1+list2,2):\n",
    "    count+=1\n",
    "    print(count,var[0],\"Vs\",var[1])"
   ]
  },
  {
   "cell_type": "code",
   "execution_count": null,
   "metadata": {},
   "outputs": [],
   "source": [
    "import collections \n",
    "n=int(input())\n",
    "list1=[]\n",
    "dq=collections.deque(list1)\n",
    "for i in range(0,len(list1)):\n",
    "    if i%2==0:\n",
    "        a=dq.pop()\n",
    "        new.append(a)\n",
    "    else:\n",
    "        a=dq.popleft()\n",
    "        new.append(a)\n",
    "print(new)\n"
   ]
  },
  {
   "cell_type": "code",
   "execution_count": null,
   "metadata": {},
   "outputs": [],
   "source": [
    "n=int(input())\n",
    "list1=[]\n",
    "new=[]\n",
    "for i in range(n):\n",
    "    x=int(input())\n",
    "    list1.append(x)\n",
    "#print(list1)\n",
    "max=len(list1)-1\n",
    "min=0\n",
    "for i in range(len(list1)):\n",
    "    if i%2==0:\n",
    "        new.append(list1[max])\n",
    "        max=max-1\n",
    "    else:\n",
    "        new.append(list1[min])\n",
    "        min=min+1\n",
    "print(new)\n",
    "        \n",
    "    "
   ]
  },
  {
   "cell_type": "code",
   "execution_count": null,
   "metadata": {},
   "outputs": [],
   "source": [
    "def staircase(n):\n",
    "    if n<=1:\n",
    "        return 1\n",
    "    else:\n",
    "        return staircase(n-1)+staircase(n-2)\n",
    "\n",
    "n=int(input())\n",
    "if n>24:\n",
    "    print(\"Wrong Input\")\n",
    "else:\n",
    "    print(staircase(n))"
   ]
  },
  {
   "cell_type": "code",
   "execution_count": 6,
   "metadata": {},
   "outputs": [
    {
     "name": "stdout",
     "output_type": "stream",
     "text": [
      "abcdefgh\n",
      "not pangram\n"
     ]
    }
   ],
   "source": [
    "import string\n",
    "from string import ascii_lowercase as asclower\n",
    "def check(s):\n",
    "    return set(asclower)-set(s.lower())==set([])\n",
    "strng=input()\n",
    "if(check(strng)==True):\n",
    "     print(\"pangram\")\n",
    "else:\n",
    "    print(\"not pangram\")\n"
   ]
  },
  {
   "cell_type": "code",
   "execution_count": 7,
   "metadata": {},
   "outputs": [
    {
     "name": "stdout",
     "output_type": "stream",
     "text": [
      "5\n"
     ]
    },
    {
     "ename": "RecursionError",
     "evalue": "maximum recursion depth exceeded in comparison",
     "output_type": "error",
     "traceback": [
      "\u001b[1;31m---------------------------------------------------------------------------\u001b[0m",
      "\u001b[1;31mRecursionError\u001b[0m                            Traceback (most recent call last)",
      "\u001b[1;32m<ipython-input-7-013cf5cf1580>\u001b[0m in \u001b[0;36m<module>\u001b[1;34m\u001b[0m\n\u001b[0;32m      9\u001b[0m     \u001b[0mprint\u001b[0m\u001b[1;33m(\u001b[0m\u001b[1;34m\"Wrong Input\"\u001b[0m\u001b[1;33m)\u001b[0m\u001b[1;33m\u001b[0m\u001b[1;33m\u001b[0m\u001b[0m\n\u001b[0;32m     10\u001b[0m \u001b[1;32melse\u001b[0m\u001b[1;33m:\u001b[0m\u001b[1;33m\u001b[0m\u001b[1;33m\u001b[0m\u001b[0m\n\u001b[1;32m---> 11\u001b[1;33m     \u001b[0mprint\u001b[0m\u001b[1;33m(\u001b[0m\u001b[0mstaircase\u001b[0m\u001b[1;33m(\u001b[0m\u001b[0mn\u001b[0m\u001b[1;33m)\u001b[0m\u001b[1;33m)\u001b[0m\u001b[1;33m\u001b[0m\u001b[1;33m\u001b[0m\u001b[0m\n\u001b[0m",
      "\u001b[1;32m<ipython-input-7-013cf5cf1580>\u001b[0m in \u001b[0;36mstaircase\u001b[1;34m(n)\u001b[0m\n\u001b[0;32m      3\u001b[0m         \u001b[1;32mreturn\u001b[0m \u001b[1;36m1\u001b[0m\u001b[1;33m\u001b[0m\u001b[1;33m\u001b[0m\u001b[0m\n\u001b[0;32m      4\u001b[0m     \u001b[1;32melse\u001b[0m\u001b[1;33m:\u001b[0m\u001b[1;33m\u001b[0m\u001b[1;33m\u001b[0m\u001b[0m\n\u001b[1;32m----> 5\u001b[1;33m         \u001b[1;32mreturn\u001b[0m \u001b[0mstaircase\u001b[0m\u001b[1;33m(\u001b[0m\u001b[0mn\u001b[0m\u001b[1;33m-\u001b[0m\u001b[1;36m1\u001b[0m\u001b[1;33m)\u001b[0m\u001b[1;33m+\u001b[0m\u001b[0mstaircase\u001b[0m\u001b[1;33m(\u001b[0m\u001b[0mn\u001b[0m\u001b[1;33m-\u001b[0m\u001b[1;36m2\u001b[0m\u001b[1;33m)\u001b[0m\u001b[1;33m\u001b[0m\u001b[1;33m\u001b[0m\u001b[0m\n\u001b[0m\u001b[0;32m      6\u001b[0m \u001b[1;33m\u001b[0m\u001b[0m\n\u001b[0;32m      7\u001b[0m \u001b[0mn\u001b[0m\u001b[1;33m=\u001b[0m\u001b[0mint\u001b[0m\u001b[1;33m(\u001b[0m\u001b[0minput\u001b[0m\u001b[1;33m(\u001b[0m\u001b[1;33m)\u001b[0m\u001b[1;33m)\u001b[0m\u001b[1;33m\u001b[0m\u001b[1;33m\u001b[0m\u001b[0m\n",
      "... last 1 frames repeated, from the frame below ...\n",
      "\u001b[1;32m<ipython-input-7-013cf5cf1580>\u001b[0m in \u001b[0;36mstaircase\u001b[1;34m(n)\u001b[0m\n\u001b[0;32m      3\u001b[0m         \u001b[1;32mreturn\u001b[0m \u001b[1;36m1\u001b[0m\u001b[1;33m\u001b[0m\u001b[1;33m\u001b[0m\u001b[0m\n\u001b[0;32m      4\u001b[0m     \u001b[1;32melse\u001b[0m\u001b[1;33m:\u001b[0m\u001b[1;33m\u001b[0m\u001b[1;33m\u001b[0m\u001b[0m\n\u001b[1;32m----> 5\u001b[1;33m         \u001b[1;32mreturn\u001b[0m \u001b[0mstaircase\u001b[0m\u001b[1;33m(\u001b[0m\u001b[0mn\u001b[0m\u001b[1;33m-\u001b[0m\u001b[1;36m1\u001b[0m\u001b[1;33m)\u001b[0m\u001b[1;33m+\u001b[0m\u001b[0mstaircase\u001b[0m\u001b[1;33m(\u001b[0m\u001b[0mn\u001b[0m\u001b[1;33m-\u001b[0m\u001b[1;36m2\u001b[0m\u001b[1;33m)\u001b[0m\u001b[1;33m\u001b[0m\u001b[1;33m\u001b[0m\u001b[0m\n\u001b[0m\u001b[0;32m      6\u001b[0m \u001b[1;33m\u001b[0m\u001b[0m\n\u001b[0;32m      7\u001b[0m \u001b[0mn\u001b[0m\u001b[1;33m=\u001b[0m\u001b[0mint\u001b[0m\u001b[1;33m(\u001b[0m\u001b[0minput\u001b[0m\u001b[1;33m(\u001b[0m\u001b[1;33m)\u001b[0m\u001b[1;33m)\u001b[0m\u001b[1;33m\u001b[0m\u001b[1;33m\u001b[0m\u001b[0m\n",
      "\u001b[1;31mRecursionError\u001b[0m: maximum recursion depth exceeded in comparison"
     ]
    }
   ],
   "source": [
    "def staircase(n):\n",
    "    if n==1:\n",
    "        return 1\n",
    "    else:\n",
    "        return staircase(n-1)+staircase(n-2)\n",
    "\n",
    "n=int(input())\n",
    "if n>26:\n",
    "    print(\"Wrong Input\")\n",
    "else:\n",
    "    print(staircase(n))"
   ]
  },
  {
   "cell_type": "code",
   "execution_count": 8,
   "metadata": {},
   "outputs": [
    {
     "name": "stdout",
     "output_type": "stream",
     "text": [
      "enter no.of numbers12\n",
      "enter number to look20\n",
      "enter subset range3\n",
      "20\n",
      "1\n",
      "2\n",
      "3\n",
      "4\n",
      "5\n",
      "6\n",
      "7\n",
      "8\n",
      "9\n",
      "10\n",
      "11\n",
      "(20, 1, 2)\n",
      "(20, 1, 3)\n",
      "(20, 1, 4)\n",
      "(20, 1, 5)\n",
      "(20, 1, 6)\n",
      "(20, 1, 7)\n",
      "(20, 1, 8)\n",
      "(20, 1, 9)\n",
      "(20, 1, 10)\n",
      "(20, 1, 11)\n",
      "(20, 2, 1)\n",
      "(20, 2, 3)\n",
      "(20, 2, 4)\n",
      "(20, 2, 5)\n",
      "(20, 2, 6)\n",
      "(20, 2, 7)\n",
      "(20, 2, 8)\n",
      "(20, 2, 9)\n",
      "(20, 2, 10)\n",
      "(20, 2, 11)\n",
      "(20, 3, 1)\n",
      "(20, 3, 2)\n",
      "(20, 3, 4)\n",
      "(20, 3, 5)\n",
      "(20, 3, 6)\n",
      "(20, 3, 7)\n",
      "(20, 3, 8)\n",
      "(20, 3, 9)\n",
      "(20, 3, 10)\n",
      "(20, 3, 11)\n",
      "(20, 4, 1)\n",
      "(20, 4, 2)\n",
      "(20, 4, 3)\n",
      "(20, 4, 5)\n",
      "(20, 4, 6)\n",
      "(20, 4, 7)\n",
      "(20, 4, 8)\n",
      "(20, 4, 9)\n",
      "(20, 4, 10)\n",
      "(20, 4, 11)\n",
      "(20, 5, 1)\n",
      "(20, 5, 2)\n",
      "(20, 5, 3)\n",
      "(20, 5, 4)\n",
      "(20, 5, 6)\n",
      "(20, 5, 7)\n",
      "(20, 5, 8)\n",
      "(20, 5, 9)\n",
      "(20, 5, 10)\n",
      "(20, 5, 11)\n",
      "(20, 6, 1)\n",
      "(20, 6, 2)\n",
      "(20, 6, 3)\n",
      "(20, 6, 4)\n",
      "(20, 6, 5)\n",
      "(20, 6, 7)\n",
      "(20, 6, 8)\n",
      "(20, 6, 9)\n",
      "(20, 6, 10)\n",
      "(20, 6, 11)\n",
      "(20, 7, 1)\n",
      "(20, 7, 2)\n",
      "(20, 7, 3)\n",
      "(20, 7, 4)\n",
      "(20, 7, 5)\n",
      "(20, 7, 6)\n",
      "(20, 7, 8)\n",
      "(20, 7, 9)\n",
      "(20, 7, 10)\n",
      "(20, 7, 11)\n",
      "(20, 8, 1)\n",
      "(20, 8, 2)\n",
      "(20, 8, 3)\n",
      "(20, 8, 4)\n",
      "(20, 8, 5)\n",
      "(20, 8, 6)\n",
      "(20, 8, 7)\n",
      "(20, 8, 9)\n",
      "(20, 8, 10)\n",
      "(20, 8, 11)\n",
      "(20, 9, 1)\n",
      "(20, 9, 2)\n",
      "(20, 9, 3)\n",
      "(20, 9, 4)\n",
      "(20, 9, 5)\n",
      "(20, 9, 6)\n",
      "(20, 9, 7)\n",
      "(20, 9, 8)\n",
      "(20, 9, 10)\n",
      "(20, 9, 11)\n",
      "(20, 10, 1)\n",
      "(20, 10, 2)\n",
      "(20, 10, 3)\n",
      "(20, 10, 4)\n",
      "(20, 10, 5)\n",
      "(20, 10, 6)\n",
      "(20, 10, 7)\n",
      "(20, 10, 8)\n",
      "(20, 10, 9)\n",
      "(20, 10, 11)\n",
      "(20, 11, 1)\n",
      "(20, 11, 2)\n",
      "(20, 11, 3)\n",
      "(20, 11, 4)\n",
      "(20, 11, 5)\n",
      "(20, 11, 6)\n",
      "(20, 11, 7)\n",
      "(20, 11, 8)\n",
      "(20, 11, 9)\n",
      "(20, 11, 10)\n",
      "(1, 20, 2)\n",
      "(1, 20, 3)\n",
      "(1, 20, 4)\n",
      "(1, 20, 5)\n",
      "(1, 20, 6)\n",
      "(1, 20, 7)\n",
      "(1, 20, 8)\n",
      "(1, 20, 9)\n",
      "(1, 20, 10)\n",
      "(1, 20, 11)\n",
      "(1, 2, 20)\n",
      "(1, 2, 3)\n",
      "(1, 2, 4)\n",
      "(1, 2, 5)\n",
      "(1, 2, 6)\n",
      "(1, 2, 7)\n",
      "(1, 2, 8)\n",
      "(1, 2, 9)\n",
      "(1, 2, 10)\n",
      "(1, 2, 11)\n",
      "(1, 3, 20)\n",
      "(1, 3, 2)\n",
      "(1, 3, 4)\n",
      "(1, 3, 5)\n",
      "(1, 3, 6)\n",
      "(1, 3, 7)\n",
      "(1, 3, 8)\n",
      "(1, 3, 9)\n",
      "(1, 3, 10)\n",
      "(1, 3, 11)\n",
      "(1, 4, 20)\n",
      "(1, 4, 2)\n",
      "(1, 4, 3)\n",
      "(1, 4, 5)\n",
      "(1, 4, 6)\n",
      "(1, 4, 7)\n",
      "(1, 4, 8)\n",
      "(1, 4, 9)\n",
      "(1, 4, 10)\n",
      "(1, 4, 11)\n",
      "(1, 5, 20)\n",
      "(1, 5, 2)\n",
      "(1, 5, 3)\n",
      "(1, 5, 4)\n",
      "(1, 5, 6)\n",
      "(1, 5, 7)\n",
      "(1, 5, 8)\n",
      "(1, 5, 9)\n",
      "(1, 5, 10)\n",
      "(1, 5, 11)\n",
      "(1, 6, 20)\n",
      "(1, 6, 2)\n",
      "(1, 6, 3)\n",
      "(1, 6, 4)\n",
      "(1, 6, 5)\n",
      "(1, 6, 7)\n",
      "(1, 6, 8)\n",
      "(1, 6, 9)\n",
      "(1, 6, 10)\n",
      "(1, 6, 11)\n",
      "(1, 7, 20)\n",
      "(1, 7, 2)\n",
      "(1, 7, 3)\n",
      "(1, 7, 4)\n",
      "(1, 7, 5)\n",
      "(1, 7, 6)\n",
      "(1, 7, 8)\n",
      "(1, 7, 9)\n",
      "(1, 7, 10)\n",
      "(1, 7, 11)\n",
      "(1, 8, 20)\n",
      "(1, 8, 2)\n",
      "(1, 8, 3)\n",
      "(1, 8, 4)\n",
      "(1, 8, 5)\n",
      "(1, 8, 6)\n",
      "(1, 8, 7)\n",
      "(1, 8, 9)\n",
      "(1, 8, 10)\n",
      "(1, 8, 11)\n",
      "(1, 9, 20)\n",
      "(1, 9, 2)\n",
      "(1, 9, 3)\n",
      "(1, 9, 4)\n",
      "(1, 9, 5)\n",
      "(1, 9, 6)\n",
      "(1, 9, 7)\n",
      "(1, 9, 8)\n",
      "(1, 9, 10)\n",
      "(1, 9, 11)\n",
      "(1, 10, 20)\n",
      "(1, 10, 2)\n",
      "(1, 10, 3)\n",
      "(1, 10, 4)\n",
      "(1, 10, 5)\n",
      "(1, 10, 6)\n",
      "(1, 10, 7)\n",
      "(1, 10, 8)\n",
      "(1, 10, 9)\n",
      "(1, 10, 11)\n",
      "(1, 11, 20)\n",
      "(1, 11, 2)\n",
      "(1, 11, 3)\n",
      "(1, 11, 4)\n",
      "(1, 11, 5)\n",
      "(1, 11, 6)\n",
      "(1, 11, 7)\n",
      "(1, 11, 8)\n",
      "(1, 11, 9)\n",
      "(1, 11, 10)\n",
      "(2, 20, 1)\n",
      "(2, 20, 3)\n",
      "(2, 20, 4)\n",
      "(2, 20, 5)\n",
      "(2, 20, 6)\n",
      "(2, 20, 7)\n",
      "(2, 20, 8)\n",
      "(2, 20, 9)\n",
      "(2, 20, 10)\n",
      "(2, 20, 11)\n",
      "(2, 1, 20)\n",
      "(2, 1, 3)\n",
      "(2, 1, 4)\n",
      "(2, 1, 5)\n",
      "(2, 1, 6)\n",
      "(2, 1, 7)\n",
      "(2, 1, 8)\n",
      "(2, 1, 9)\n",
      "(2, 1, 10)\n",
      "(2, 1, 11)\n",
      "(2, 3, 20)\n",
      "(2, 3, 1)\n",
      "(2, 3, 4)\n",
      "(2, 3, 5)\n",
      "(2, 3, 6)\n",
      "(2, 3, 7)\n",
      "(2, 3, 8)\n",
      "(2, 3, 9)\n",
      "(2, 3, 10)\n",
      "(2, 3, 11)\n",
      "(2, 4, 20)\n",
      "(2, 4, 1)\n",
      "(2, 4, 3)\n",
      "(2, 4, 5)\n",
      "(2, 4, 6)\n",
      "(2, 4, 7)\n",
      "(2, 4, 8)\n",
      "(2, 4, 9)\n",
      "(2, 4, 10)\n",
      "(2, 4, 11)\n",
      "(2, 5, 20)\n",
      "(2, 5, 1)\n",
      "(2, 5, 3)\n",
      "(2, 5, 4)\n",
      "(2, 5, 6)\n",
      "(2, 5, 7)\n",
      "(2, 5, 8)\n",
      "(2, 5, 9)\n",
      "(2, 5, 10)\n",
      "(2, 5, 11)\n",
      "(2, 6, 20)\n",
      "(2, 6, 1)\n",
      "(2, 6, 3)\n",
      "(2, 6, 4)\n",
      "(2, 6, 5)\n",
      "(2, 6, 7)\n",
      "(2, 6, 8)\n",
      "(2, 6, 9)\n",
      "(2, 6, 10)\n",
      "(2, 6, 11)\n",
      "(2, 7, 20)\n",
      "(2, 7, 1)\n",
      "(2, 7, 3)\n",
      "(2, 7, 4)\n",
      "(2, 7, 5)\n",
      "(2, 7, 6)\n",
      "(2, 7, 8)\n",
      "(2, 7, 9)\n",
      "(2, 7, 10)\n",
      "(2, 7, 11)\n",
      "(2, 8, 20)\n",
      "(2, 8, 1)\n",
      "(2, 8, 3)\n",
      "(2, 8, 4)\n",
      "(2, 8, 5)\n",
      "(2, 8, 6)\n",
      "(2, 8, 7)\n",
      "(2, 8, 9)\n",
      "(2, 8, 10)\n",
      "(2, 8, 11)\n",
      "(2, 9, 20)\n",
      "(2, 9, 1)\n",
      "(2, 9, 3)\n",
      "(2, 9, 4)\n",
      "(2, 9, 5)\n",
      "(2, 9, 6)\n",
      "(2, 9, 7)\n",
      "(2, 9, 8)\n",
      "(2, 9, 10)\n",
      "(2, 9, 11)\n",
      "(2, 10, 20)\n",
      "(2, 10, 1)\n",
      "(2, 10, 3)\n",
      "(2, 10, 4)\n",
      "(2, 10, 5)\n",
      "(2, 10, 6)\n",
      "(2, 10, 7)\n",
      "(2, 10, 8)\n",
      "(2, 10, 9)\n",
      "(2, 10, 11)\n",
      "(2, 11, 20)\n",
      "(2, 11, 1)\n",
      "(2, 11, 3)\n",
      "(2, 11, 4)\n",
      "(2, 11, 5)\n",
      "(2, 11, 6)\n",
      "(2, 11, 7)\n",
      "(2, 11, 8)\n",
      "(2, 11, 9)\n",
      "(2, 11, 10)\n",
      "(3, 20, 1)\n",
      "(3, 20, 2)\n",
      "(3, 20, 4)\n",
      "(3, 20, 5)\n",
      "(3, 20, 6)\n",
      "(3, 20, 7)\n",
      "(3, 20, 8)\n",
      "(3, 20, 9)\n",
      "(3, 20, 10)\n",
      "(3, 20, 11)\n",
      "(3, 1, 20)\n",
      "(3, 1, 2)\n",
      "(3, 1, 4)\n",
      "(3, 1, 5)\n",
      "(3, 1, 6)\n",
      "(3, 1, 7)\n",
      "(3, 1, 8)\n",
      "(3, 1, 9)\n",
      "(3, 1, 10)\n",
      "(3, 1, 11)\n",
      "(3, 2, 20)\n",
      "(3, 2, 1)\n",
      "(3, 2, 4)\n",
      "(3, 2, 5)\n",
      "(3, 2, 6)\n",
      "(3, 2, 7)\n",
      "(3, 2, 8)\n",
      "(3, 2, 9)\n",
      "(3, 2, 10)\n",
      "(3, 2, 11)\n",
      "(3, 4, 20)\n",
      "(3, 4, 1)\n",
      "(3, 4, 2)\n",
      "(3, 4, 5)\n",
      "(3, 4, 6)\n",
      "(3, 4, 7)\n",
      "(3, 4, 8)\n",
      "(3, 4, 9)\n",
      "(3, 4, 10)\n",
      "(3, 4, 11)\n",
      "(3, 5, 20)\n",
      "(3, 5, 1)\n",
      "(3, 5, 2)\n",
      "(3, 5, 4)\n",
      "(3, 5, 6)\n",
      "(3, 5, 7)\n",
      "(3, 5, 8)\n",
      "(3, 5, 9)\n",
      "(3, 5, 10)\n",
      "(3, 5, 11)\n",
      "(3, 6, 20)\n",
      "(3, 6, 1)\n",
      "(3, 6, 2)\n",
      "(3, 6, 4)\n",
      "(3, 6, 5)\n",
      "(3, 6, 7)\n",
      "(3, 6, 8)\n",
      "(3, 6, 9)\n",
      "(3, 6, 10)\n",
      "(3, 6, 11)\n",
      "(3, 7, 20)\n",
      "(3, 7, 1)\n",
      "(3, 7, 2)\n",
      "(3, 7, 4)\n",
      "(3, 7, 5)\n",
      "(3, 7, 6)\n",
      "(3, 7, 8)\n",
      "(3, 7, 9)\n",
      "(3, 7, 10)\n",
      "(3, 7, 11)\n",
      "(3, 8, 20)\n",
      "(3, 8, 1)\n",
      "(3, 8, 2)\n",
      "(3, 8, 4)\n",
      "(3, 8, 5)\n",
      "(3, 8, 6)\n",
      "(3, 8, 7)\n",
      "(3, 8, 9)\n",
      "(3, 8, 10)\n",
      "(3, 8, 11)\n",
      "(3, 9, 20)\n",
      "(3, 9, 1)\n",
      "(3, 9, 2)\n",
      "(3, 9, 4)\n",
      "(3, 9, 5)\n",
      "(3, 9, 6)\n",
      "(3, 9, 7)\n",
      "(3, 9, 8)\n",
      "(3, 9, 10)\n",
      "(3, 9, 11)\n",
      "(3, 10, 20)\n",
      "(3, 10, 1)\n",
      "(3, 10, 2)\n",
      "(3, 10, 4)\n",
      "(3, 10, 5)\n",
      "(3, 10, 6)\n",
      "(3, 10, 7)\n",
      "(3, 10, 8)\n",
      "(3, 10, 9)\n",
      "(3, 10, 11)\n",
      "(3, 11, 20)\n",
      "(3, 11, 1)\n",
      "(3, 11, 2)\n",
      "(3, 11, 4)\n",
      "(3, 11, 5)\n",
      "(3, 11, 6)\n",
      "(3, 11, 7)\n",
      "(3, 11, 8)\n",
      "(3, 11, 9)\n",
      "(3, 11, 10)\n",
      "(4, 20, 1)\n",
      "(4, 20, 2)\n",
      "(4, 20, 3)\n",
      "(4, 20, 5)\n",
      "(4, 20, 6)\n",
      "(4, 20, 7)\n",
      "(4, 20, 8)\n",
      "(4, 20, 9)\n",
      "(4, 20, 10)\n",
      "(4, 20, 11)\n",
      "(4, 1, 20)\n",
      "(4, 1, 2)\n",
      "(4, 1, 3)\n",
      "(4, 1, 5)\n",
      "(4, 1, 6)\n",
      "(4, 1, 7)\n",
      "(4, 1, 8)\n",
      "(4, 1, 9)\n",
      "(4, 1, 10)\n",
      "(4, 1, 11)\n",
      "(4, 2, 20)\n",
      "(4, 2, 1)\n",
      "(4, 2, 3)\n",
      "(4, 2, 5)\n",
      "(4, 2, 6)\n",
      "(4, 2, 7)\n",
      "(4, 2, 8)\n",
      "(4, 2, 9)\n",
      "(4, 2, 10)\n",
      "(4, 2, 11)\n",
      "(4, 3, 20)\n",
      "(4, 3, 1)\n",
      "(4, 3, 2)\n",
      "(4, 3, 5)\n",
      "(4, 3, 6)\n",
      "(4, 3, 7)\n",
      "(4, 3, 8)\n",
      "(4, 3, 9)\n",
      "(4, 3, 10)\n",
      "(4, 3, 11)\n",
      "(4, 5, 20)\n",
      "(4, 5, 1)\n",
      "(4, 5, 2)\n",
      "(4, 5, 3)\n",
      "(4, 5, 6)\n",
      "(4, 5, 7)\n",
      "(4, 5, 8)\n",
      "(4, 5, 9)\n",
      "(4, 5, 10)\n",
      "(4, 5, 11)\n",
      "(4, 6, 20)\n",
      "(4, 6, 1)\n",
      "(4, 6, 2)\n",
      "(4, 6, 3)\n",
      "(4, 6, 5)\n",
      "(4, 6, 7)\n",
      "(4, 6, 8)\n",
      "(4, 6, 9)\n",
      "(4, 6, 10)\n",
      "(4, 6, 11)\n",
      "(4, 7, 20)\n",
      "(4, 7, 1)\n",
      "(4, 7, 2)\n",
      "(4, 7, 3)\n",
      "(4, 7, 5)\n",
      "(4, 7, 6)\n",
      "(4, 7, 8)\n",
      "(4, 7, 9)\n",
      "(4, 7, 10)\n",
      "(4, 7, 11)\n",
      "(4, 8, 20)\n",
      "(4, 8, 1)\n",
      "(4, 8, 2)\n",
      "(4, 8, 3)\n",
      "(4, 8, 5)\n",
      "(4, 8, 6)\n",
      "(4, 8, 7)\n",
      "(4, 8, 9)\n",
      "(4, 8, 10)\n",
      "(4, 8, 11)\n",
      "(4, 9, 20)\n",
      "(4, 9, 1)\n",
      "(4, 9, 2)\n",
      "(4, 9, 3)\n",
      "(4, 9, 5)\n",
      "(4, 9, 6)\n",
      "(4, 9, 7)\n",
      "(4, 9, 8)\n",
      "(4, 9, 10)\n",
      "(4, 9, 11)\n",
      "(4, 10, 20)\n",
      "(4, 10, 1)\n",
      "(4, 10, 2)\n",
      "(4, 10, 3)\n",
      "(4, 10, 5)\n",
      "(4, 10, 6)\n",
      "(4, 10, 7)\n",
      "(4, 10, 8)\n",
      "(4, 10, 9)\n",
      "(4, 10, 11)\n",
      "(4, 11, 20)\n",
      "(4, 11, 1)\n",
      "(4, 11, 2)\n",
      "(4, 11, 3)\n",
      "(4, 11, 5)\n",
      "(4, 11, 6)\n",
      "(4, 11, 7)\n",
      "(4, 11, 8)\n",
      "(4, 11, 9)\n",
      "(4, 11, 10)\n",
      "(5, 20, 1)\n",
      "(5, 20, 2)\n",
      "(5, 20, 3)\n",
      "(5, 20, 4)\n",
      "(5, 20, 6)\n",
      "(5, 20, 7)\n",
      "(5, 20, 8)\n",
      "(5, 20, 9)\n",
      "(5, 20, 10)\n",
      "(5, 20, 11)\n",
      "(5, 1, 20)\n",
      "(5, 1, 2)\n",
      "(5, 1, 3)\n",
      "(5, 1, 4)\n",
      "(5, 1, 6)\n",
      "(5, 1, 7)\n",
      "(5, 1, 8)\n",
      "(5, 1, 9)\n",
      "(5, 1, 10)\n",
      "(5, 1, 11)\n",
      "(5, 2, 20)\n",
      "(5, 2, 1)\n",
      "(5, 2, 3)\n",
      "(5, 2, 4)\n",
      "(5, 2, 6)\n",
      "(5, 2, 7)\n",
      "(5, 2, 8)\n",
      "(5, 2, 9)\n",
      "(5, 2, 10)\n",
      "(5, 2, 11)\n",
      "(5, 3, 20)\n",
      "(5, 3, 1)\n",
      "(5, 3, 2)\n",
      "(5, 3, 4)\n",
      "(5, 3, 6)\n",
      "(5, 3, 7)\n",
      "(5, 3, 8)\n",
      "(5, 3, 9)\n",
      "(5, 3, 10)\n",
      "(5, 3, 11)\n",
      "(5, 4, 20)\n",
      "(5, 4, 1)\n",
      "(5, 4, 2)\n",
      "(5, 4, 3)\n",
      "(5, 4, 6)\n",
      "(5, 4, 7)\n",
      "(5, 4, 8)\n",
      "(5, 4, 9)\n",
      "(5, 4, 10)\n",
      "(5, 4, 11)\n",
      "(5, 6, 20)\n",
      "(5, 6, 1)\n",
      "(5, 6, 2)\n",
      "(5, 6, 3)\n",
      "(5, 6, 4)\n",
      "(5, 6, 7)\n",
      "(5, 6, 8)\n",
      "(5, 6, 9)\n",
      "(5, 6, 10)\n",
      "(5, 6, 11)\n",
      "(5, 7, 20)\n",
      "(5, 7, 1)\n",
      "(5, 7, 2)\n",
      "(5, 7, 3)\n",
      "(5, 7, 4)\n",
      "(5, 7, 6)\n",
      "(5, 7, 8)\n",
      "(5, 7, 9)\n",
      "(5, 7, 10)\n",
      "(5, 7, 11)\n",
      "(5, 8, 20)\n",
      "(5, 8, 1)\n",
      "(5, 8, 2)\n",
      "(5, 8, 3)\n",
      "(5, 8, 4)\n",
      "(5, 8, 6)\n",
      "(5, 8, 7)\n",
      "(5, 8, 9)\n",
      "(5, 8, 10)\n",
      "(5, 8, 11)\n",
      "(5, 9, 20)\n",
      "(5, 9, 1)\n",
      "(5, 9, 2)\n",
      "(5, 9, 3)\n",
      "(5, 9, 4)\n",
      "(5, 9, 6)\n",
      "(5, 9, 7)\n",
      "(5, 9, 8)\n",
      "(5, 9, 10)\n",
      "(5, 9, 11)\n",
      "(5, 10, 20)\n",
      "(5, 10, 1)\n",
      "(5, 10, 2)\n",
      "(5, 10, 3)\n",
      "(5, 10, 4)\n",
      "(5, 10, 6)\n",
      "(5, 10, 7)\n",
      "(5, 10, 8)\n",
      "(5, 10, 9)\n",
      "(5, 10, 11)\n",
      "(5, 11, 20)\n",
      "(5, 11, 1)\n",
      "(5, 11, 2)\n",
      "(5, 11, 3)\n",
      "(5, 11, 4)\n",
      "(5, 11, 6)\n",
      "(5, 11, 7)\n",
      "(5, 11, 8)\n",
      "(5, 11, 9)\n",
      "(5, 11, 10)\n",
      "(6, 20, 1)\n",
      "(6, 20, 2)\n",
      "(6, 20, 3)\n",
      "(6, 20, 4)\n",
      "(6, 20, 5)\n",
      "(6, 20, 7)\n",
      "(6, 20, 8)\n",
      "(6, 20, 9)\n",
      "(6, 20, 10)\n",
      "(6, 20, 11)\n",
      "(6, 1, 20)\n",
      "(6, 1, 2)\n",
      "(6, 1, 3)\n",
      "(6, 1, 4)\n",
      "(6, 1, 5)\n",
      "(6, 1, 7)\n",
      "(6, 1, 8)\n",
      "(6, 1, 9)\n",
      "(6, 1, 10)\n",
      "(6, 1, 11)\n",
      "(6, 2, 20)\n",
      "(6, 2, 1)\n",
      "(6, 2, 3)\n",
      "(6, 2, 4)\n",
      "(6, 2, 5)\n",
      "(6, 2, 7)\n",
      "(6, 2, 8)\n",
      "(6, 2, 9)\n",
      "(6, 2, 10)\n",
      "(6, 2, 11)\n",
      "(6, 3, 20)\n",
      "(6, 3, 1)\n",
      "(6, 3, 2)\n",
      "(6, 3, 4)\n",
      "(6, 3, 5)\n",
      "(6, 3, 7)\n",
      "(6, 3, 8)\n",
      "(6, 3, 9)\n",
      "(6, 3, 10)\n",
      "(6, 3, 11)\n",
      "(6, 4, 20)\n",
      "(6, 4, 1)\n",
      "(6, 4, 2)\n",
      "(6, 4, 3)\n",
      "(6, 4, 5)\n",
      "(6, 4, 7)\n",
      "(6, 4, 8)\n",
      "(6, 4, 9)\n",
      "(6, 4, 10)\n",
      "(6, 4, 11)\n",
      "(6, 5, 20)\n",
      "(6, 5, 1)\n",
      "(6, 5, 2)\n",
      "(6, 5, 3)\n",
      "(6, 5, 4)\n",
      "(6, 5, 7)\n",
      "(6, 5, 8)\n",
      "(6, 5, 9)\n",
      "(6, 5, 10)\n",
      "(6, 5, 11)\n",
      "(6, 7, 20)\n",
      "(6, 7, 1)\n",
      "(6, 7, 2)\n",
      "(6, 7, 3)\n",
      "(6, 7, 4)\n",
      "(6, 7, 5)\n",
      "(6, 7, 8)\n",
      "(6, 7, 9)\n",
      "(6, 7, 10)\n",
      "(6, 7, 11)\n",
      "(6, 8, 20)\n",
      "(6, 8, 1)\n",
      "(6, 8, 2)\n",
      "(6, 8, 3)\n",
      "(6, 8, 4)\n",
      "(6, 8, 5)\n",
      "(6, 8, 7)\n",
      "(6, 8, 9)\n",
      "(6, 8, 10)\n",
      "(6, 8, 11)\n",
      "(6, 9, 20)\n",
      "(6, 9, 1)\n",
      "(6, 9, 2)\n",
      "(6, 9, 3)\n",
      "(6, 9, 4)\n",
      "(6, 9, 5)\n",
      "(6, 9, 7)\n",
      "(6, 9, 8)\n",
      "(6, 9, 10)\n",
      "(6, 9, 11)\n",
      "(6, 10, 20)\n",
      "(6, 10, 1)\n",
      "(6, 10, 2)\n",
      "(6, 10, 3)\n",
      "(6, 10, 4)\n",
      "(6, 10, 5)\n",
      "(6, 10, 7)\n",
      "(6, 10, 8)\n",
      "(6, 10, 9)\n",
      "(6, 10, 11)\n",
      "(6, 11, 20)\n",
      "(6, 11, 1)\n",
      "(6, 11, 2)\n",
      "(6, 11, 3)\n",
      "(6, 11, 4)\n",
      "(6, 11, 5)\n",
      "(6, 11, 7)\n",
      "(6, 11, 8)\n",
      "(6, 11, 9)\n",
      "(6, 11, 10)\n",
      "(7, 20, 1)\n",
      "(7, 20, 2)\n",
      "(7, 20, 3)\n",
      "(7, 20, 4)\n",
      "(7, 20, 5)\n",
      "(7, 20, 6)\n",
      "(7, 20, 8)\n",
      "(7, 20, 9)\n",
      "(7, 20, 10)\n",
      "(7, 20, 11)\n",
      "(7, 1, 20)\n",
      "(7, 1, 2)\n",
      "(7, 1, 3)\n",
      "(7, 1, 4)\n",
      "(7, 1, 5)\n",
      "(7, 1, 6)\n",
      "(7, 1, 8)\n",
      "(7, 1, 9)\n",
      "(7, 1, 10)\n",
      "(7, 1, 11)\n",
      "(7, 2, 20)\n",
      "(7, 2, 1)\n",
      "(7, 2, 3)\n",
      "(7, 2, 4)\n",
      "(7, 2, 5)\n",
      "(7, 2, 6)\n",
      "(7, 2, 8)\n",
      "(7, 2, 9)\n",
      "(7, 2, 10)\n",
      "(7, 2, 11)\n",
      "(7, 3, 20)\n",
      "(7, 3, 1)\n",
      "(7, 3, 2)\n",
      "(7, 3, 4)\n",
      "(7, 3, 5)\n",
      "(7, 3, 6)\n",
      "(7, 3, 8)\n",
      "(7, 3, 9)\n",
      "(7, 3, 10)\n",
      "(7, 3, 11)\n",
      "(7, 4, 20)\n",
      "(7, 4, 1)\n",
      "(7, 4, 2)\n",
      "(7, 4, 3)\n",
      "(7, 4, 5)\n",
      "(7, 4, 6)\n",
      "(7, 4, 8)\n",
      "(7, 4, 9)\n",
      "(7, 4, 10)\n",
      "(7, 4, 11)\n",
      "(7, 5, 20)\n",
      "(7, 5, 1)\n",
      "(7, 5, 2)\n",
      "(7, 5, 3)\n",
      "(7, 5, 4)\n",
      "(7, 5, 6)\n",
      "(7, 5, 8)\n",
      "(7, 5, 9)\n",
      "(7, 5, 10)\n",
      "(7, 5, 11)\n",
      "(7, 6, 20)\n",
      "(7, 6, 1)\n",
      "(7, 6, 2)\n",
      "(7, 6, 3)\n",
      "(7, 6, 4)\n",
      "(7, 6, 5)\n",
      "(7, 6, 8)\n",
      "(7, 6, 9)\n",
      "(7, 6, 10)\n",
      "(7, 6, 11)\n",
      "(7, 8, 20)\n",
      "(7, 8, 1)\n",
      "(7, 8, 2)\n",
      "(7, 8, 3)\n",
      "(7, 8, 4)\n",
      "(7, 8, 5)\n",
      "(7, 8, 6)\n",
      "(7, 8, 9)\n",
      "(7, 8, 10)\n",
      "(7, 8, 11)\n",
      "(7, 9, 20)\n",
      "(7, 9, 1)\n",
      "(7, 9, 2)\n",
      "(7, 9, 3)\n",
      "(7, 9, 4)\n",
      "(7, 9, 5)\n",
      "(7, 9, 6)\n",
      "(7, 9, 8)\n",
      "(7, 9, 10)\n",
      "(7, 9, 11)\n",
      "(7, 10, 20)\n",
      "(7, 10, 1)\n",
      "(7, 10, 2)\n",
      "(7, 10, 3)\n",
      "(7, 10, 4)\n",
      "(7, 10, 5)\n",
      "(7, 10, 6)\n",
      "(7, 10, 8)\n",
      "(7, 10, 9)\n",
      "(7, 10, 11)\n",
      "(7, 11, 20)\n",
      "(7, 11, 1)\n",
      "(7, 11, 2)\n",
      "(7, 11, 3)\n",
      "(7, 11, 4)\n",
      "(7, 11, 5)\n",
      "(7, 11, 6)\n",
      "(7, 11, 8)\n",
      "(7, 11, 9)\n",
      "(7, 11, 10)\n",
      "(8, 20, 1)\n",
      "(8, 20, 2)\n",
      "(8, 20, 3)\n",
      "(8, 20, 4)\n",
      "(8, 20, 5)\n",
      "(8, 20, 6)\n",
      "(8, 20, 7)\n",
      "(8, 20, 9)\n",
      "(8, 20, 10)\n",
      "(8, 20, 11)\n",
      "(8, 1, 20)\n",
      "(8, 1, 2)\n",
      "(8, 1, 3)\n",
      "(8, 1, 4)\n",
      "(8, 1, 5)\n",
      "(8, 1, 6)\n",
      "(8, 1, 7)\n",
      "(8, 1, 9)\n",
      "(8, 1, 10)\n",
      "(8, 1, 11)\n",
      "(8, 2, 20)\n",
      "(8, 2, 1)\n",
      "(8, 2, 3)\n",
      "(8, 2, 4)\n",
      "(8, 2, 5)\n",
      "(8, 2, 6)\n",
      "(8, 2, 7)\n",
      "(8, 2, 9)\n",
      "(8, 2, 10)\n",
      "(8, 2, 11)\n",
      "(8, 3, 20)\n",
      "(8, 3, 1)\n",
      "(8, 3, 2)\n",
      "(8, 3, 4)\n",
      "(8, 3, 5)\n",
      "(8, 3, 6)\n",
      "(8, 3, 7)\n",
      "(8, 3, 9)\n",
      "(8, 3, 10)\n",
      "(8, 3, 11)\n",
      "(8, 4, 20)\n",
      "(8, 4, 1)\n",
      "(8, 4, 2)\n",
      "(8, 4, 3)\n",
      "(8, 4, 5)\n",
      "(8, 4, 6)\n",
      "(8, 4, 7)\n",
      "(8, 4, 9)\n",
      "(8, 4, 10)\n",
      "(8, 4, 11)\n",
      "(8, 5, 20)\n",
      "(8, 5, 1)\n",
      "(8, 5, 2)\n",
      "(8, 5, 3)\n",
      "(8, 5, 4)\n",
      "(8, 5, 6)\n",
      "(8, 5, 7)\n",
      "(8, 5, 9)\n",
      "(8, 5, 10)\n",
      "(8, 5, 11)\n",
      "(8, 6, 20)\n",
      "(8, 6, 1)\n",
      "(8, 6, 2)\n",
      "(8, 6, 3)\n",
      "(8, 6, 4)\n",
      "(8, 6, 5)\n",
      "(8, 6, 7)\n",
      "(8, 6, 9)\n",
      "(8, 6, 10)\n",
      "(8, 6, 11)\n",
      "(8, 7, 20)\n",
      "(8, 7, 1)\n",
      "(8, 7, 2)\n",
      "(8, 7, 3)\n",
      "(8, 7, 4)\n",
      "(8, 7, 5)\n",
      "(8, 7, 6)\n",
      "(8, 7, 9)\n",
      "(8, 7, 10)\n",
      "(8, 7, 11)\n",
      "(8, 9, 20)\n",
      "(8, 9, 1)\n",
      "(8, 9, 2)\n",
      "(8, 9, 3)\n",
      "(8, 9, 4)\n",
      "(8, 9, 5)\n",
      "(8, 9, 6)\n",
      "(8, 9, 7)\n",
      "(8, 9, 10)\n",
      "(8, 9, 11)\n",
      "(8, 10, 20)\n",
      "(8, 10, 1)\n",
      "(8, 10, 2)\n",
      "(8, 10, 3)\n",
      "(8, 10, 4)\n",
      "(8, 10, 5)\n",
      "(8, 10, 6)\n",
      "(8, 10, 7)\n",
      "(8, 10, 9)\n",
      "(8, 10, 11)\n",
      "(8, 11, 20)\n",
      "(8, 11, 1)\n",
      "(8, 11, 2)\n",
      "(8, 11, 3)\n",
      "(8, 11, 4)\n",
      "(8, 11, 5)\n",
      "(8, 11, 6)\n",
      "(8, 11, 7)\n",
      "(8, 11, 9)\n",
      "(8, 11, 10)\n",
      "(9, 20, 1)\n",
      "(9, 20, 2)\n",
      "(9, 20, 3)\n",
      "(9, 20, 4)\n",
      "(9, 20, 5)\n",
      "(9, 20, 6)\n",
      "(9, 20, 7)\n",
      "(9, 20, 8)\n",
      "(9, 20, 10)\n",
      "(9, 20, 11)\n",
      "(9, 1, 20)\n",
      "(9, 1, 2)\n",
      "(9, 1, 3)\n",
      "(9, 1, 4)\n",
      "(9, 1, 5)\n",
      "(9, 1, 6)\n",
      "(9, 1, 7)\n",
      "(9, 1, 8)\n",
      "(9, 1, 10)\n",
      "(9, 1, 11)\n",
      "(9, 2, 20)\n",
      "(9, 2, 1)\n",
      "(9, 2, 3)\n",
      "(9, 2, 4)\n",
      "(9, 2, 5)\n",
      "(9, 2, 6)\n",
      "(9, 2, 7)\n",
      "(9, 2, 8)\n",
      "(9, 2, 10)\n",
      "(9, 2, 11)\n",
      "(9, 3, 20)\n",
      "(9, 3, 1)\n",
      "(9, 3, 2)\n",
      "(9, 3, 4)\n",
      "(9, 3, 5)\n",
      "(9, 3, 6)\n",
      "(9, 3, 7)\n",
      "(9, 3, 8)\n",
      "(9, 3, 10)\n",
      "(9, 3, 11)\n",
      "(9, 4, 20)\n",
      "(9, 4, 1)\n",
      "(9, 4, 2)\n",
      "(9, 4, 3)\n",
      "(9, 4, 5)\n",
      "(9, 4, 6)\n",
      "(9, 4, 7)\n",
      "(9, 4, 8)\n",
      "(9, 4, 10)\n",
      "(9, 4, 11)\n",
      "(9, 5, 20)\n",
      "(9, 5, 1)\n",
      "(9, 5, 2)\n",
      "(9, 5, 3)\n",
      "(9, 5, 4)\n",
      "(9, 5, 6)\n",
      "(9, 5, 7)\n",
      "(9, 5, 8)\n",
      "(9, 5, 10)\n",
      "(9, 5, 11)\n",
      "(9, 6, 20)\n",
      "(9, 6, 1)\n",
      "(9, 6, 2)\n",
      "(9, 6, 3)\n",
      "(9, 6, 4)\n",
      "(9, 6, 5)\n",
      "(9, 6, 7)\n",
      "(9, 6, 8)\n",
      "(9, 6, 10)\n",
      "(9, 6, 11)\n",
      "(9, 7, 20)\n",
      "(9, 7, 1)\n",
      "(9, 7, 2)\n",
      "(9, 7, 3)\n",
      "(9, 7, 4)\n",
      "(9, 7, 5)\n",
      "(9, 7, 6)\n",
      "(9, 7, 8)\n",
      "(9, 7, 10)\n",
      "(9, 7, 11)\n",
      "(9, 8, 20)\n",
      "(9, 8, 1)\n",
      "(9, 8, 2)\n",
      "(9, 8, 3)\n",
      "(9, 8, 4)\n",
      "(9, 8, 5)\n",
      "(9, 8, 6)\n",
      "(9, 8, 7)\n",
      "(9, 8, 10)\n",
      "(9, 8, 11)\n",
      "(9, 10, 20)\n",
      "(9, 10, 1)\n",
      "(9, 10, 2)\n",
      "(9, 10, 3)\n",
      "(9, 10, 4)\n",
      "(9, 10, 5)\n",
      "(9, 10, 6)\n",
      "(9, 10, 7)\n",
      "(9, 10, 8)\n",
      "(9, 10, 11)\n",
      "(9, 11, 20)\n",
      "(9, 11, 1)\n",
      "(9, 11, 2)\n",
      "(9, 11, 3)\n",
      "(9, 11, 4)\n",
      "(9, 11, 5)\n",
      "(9, 11, 6)\n",
      "(9, 11, 7)\n",
      "(9, 11, 8)\n",
      "(9, 11, 10)\n",
      "(10, 20, 1)\n",
      "(10, 20, 2)\n",
      "(10, 20, 3)\n",
      "(10, 20, 4)\n",
      "(10, 20, 5)\n",
      "(10, 20, 6)\n",
      "(10, 20, 7)\n",
      "(10, 20, 8)\n",
      "(10, 20, 9)\n",
      "(10, 20, 11)\n",
      "(10, 1, 20)\n",
      "(10, 1, 2)\n",
      "(10, 1, 3)\n",
      "(10, 1, 4)\n",
      "(10, 1, 5)\n",
      "(10, 1, 6)\n",
      "(10, 1, 7)\n",
      "(10, 1, 8)\n",
      "(10, 1, 9)\n",
      "(10, 1, 11)\n",
      "(10, 2, 20)\n",
      "(10, 2, 1)\n",
      "(10, 2, 3)\n",
      "(10, 2, 4)\n",
      "(10, 2, 5)\n",
      "(10, 2, 6)\n",
      "(10, 2, 7)\n",
      "(10, 2, 8)\n",
      "(10, 2, 9)\n",
      "(10, 2, 11)\n",
      "(10, 3, 20)\n",
      "(10, 3, 1)\n",
      "(10, 3, 2)\n",
      "(10, 3, 4)\n",
      "(10, 3, 5)\n",
      "(10, 3, 6)\n",
      "(10, 3, 7)\n",
      "(10, 3, 8)\n",
      "(10, 3, 9)\n",
      "(10, 3, 11)\n",
      "(10, 4, 20)\n",
      "(10, 4, 1)\n",
      "(10, 4, 2)\n",
      "(10, 4, 3)\n",
      "(10, 4, 5)\n",
      "(10, 4, 6)\n",
      "(10, 4, 7)\n",
      "(10, 4, 8)\n",
      "(10, 4, 9)\n",
      "(10, 4, 11)\n",
      "(10, 5, 20)\n",
      "(10, 5, 1)\n",
      "(10, 5, 2)\n",
      "(10, 5, 3)\n",
      "(10, 5, 4)\n",
      "(10, 5, 6)\n",
      "(10, 5, 7)\n",
      "(10, 5, 8)\n",
      "(10, 5, 9)\n",
      "(10, 5, 11)\n",
      "(10, 6, 20)\n",
      "(10, 6, 1)\n",
      "(10, 6, 2)\n",
      "(10, 6, 3)\n",
      "(10, 6, 4)\n",
      "(10, 6, 5)\n",
      "(10, 6, 7)\n",
      "(10, 6, 8)\n",
      "(10, 6, 9)\n",
      "(10, 6, 11)\n",
      "(10, 7, 20)\n",
      "(10, 7, 1)\n",
      "(10, 7, 2)\n",
      "(10, 7, 3)\n",
      "(10, 7, 4)\n",
      "(10, 7, 5)\n",
      "(10, 7, 6)\n",
      "(10, 7, 8)\n",
      "(10, 7, 9)\n",
      "(10, 7, 11)\n",
      "(10, 8, 20)\n",
      "(10, 8, 1)\n",
      "(10, 8, 2)\n",
      "(10, 8, 3)\n",
      "(10, 8, 4)\n",
      "(10, 8, 5)\n",
      "(10, 8, 6)\n",
      "(10, 8, 7)\n",
      "(10, 8, 9)\n",
      "(10, 8, 11)\n",
      "(10, 9, 20)\n",
      "(10, 9, 1)\n",
      "(10, 9, 2)\n",
      "(10, 9, 3)\n",
      "(10, 9, 4)\n",
      "(10, 9, 5)\n",
      "(10, 9, 6)\n",
      "(10, 9, 7)\n",
      "(10, 9, 8)\n",
      "(10, 9, 11)\n",
      "(10, 11, 20)\n",
      "(10, 11, 1)\n",
      "(10, 11, 2)\n",
      "(10, 11, 3)\n",
      "(10, 11, 4)\n",
      "(10, 11, 5)\n",
      "(10, 11, 6)\n",
      "(10, 11, 7)\n",
      "(10, 11, 8)\n",
      "(10, 11, 9)\n",
      "(11, 20, 1)\n",
      "(11, 20, 2)\n",
      "(11, 20, 3)\n",
      "(11, 20, 4)\n",
      "(11, 20, 5)\n",
      "(11, 20, 6)\n",
      "(11, 20, 7)\n",
      "(11, 20, 8)\n",
      "(11, 20, 9)\n",
      "(11, 20, 10)\n",
      "(11, 1, 20)\n",
      "(11, 1, 2)\n",
      "(11, 1, 3)\n",
      "(11, 1, 4)\n",
      "(11, 1, 5)\n",
      "(11, 1, 6)\n",
      "(11, 1, 7)\n",
      "(11, 1, 8)\n",
      "(11, 1, 9)\n",
      "(11, 1, 10)\n",
      "(11, 2, 20)\n",
      "(11, 2, 1)\n",
      "(11, 2, 3)\n",
      "(11, 2, 4)\n",
      "(11, 2, 5)\n",
      "(11, 2, 6)\n",
      "(11, 2, 7)\n",
      "(11, 2, 8)\n",
      "(11, 2, 9)\n",
      "(11, 2, 10)\n",
      "(11, 3, 20)\n",
      "(11, 3, 1)\n",
      "(11, 3, 2)\n",
      "(11, 3, 4)\n",
      "(11, 3, 5)\n",
      "(11, 3, 6)\n",
      "(11, 3, 7)\n",
      "(11, 3, 8)\n",
      "(11, 3, 9)\n",
      "(11, 3, 10)\n",
      "(11, 4, 20)\n",
      "(11, 4, 1)\n",
      "(11, 4, 2)\n",
      "(11, 4, 3)\n",
      "(11, 4, 5)\n",
      "(11, 4, 6)\n",
      "(11, 4, 7)\n",
      "(11, 4, 8)\n",
      "(11, 4, 9)\n",
      "(11, 4, 10)\n",
      "(11, 5, 20)\n",
      "(11, 5, 1)\n",
      "(11, 5, 2)\n",
      "(11, 5, 3)\n",
      "(11, 5, 4)\n",
      "(11, 5, 6)\n",
      "(11, 5, 7)\n",
      "(11, 5, 8)\n",
      "(11, 5, 9)\n",
      "(11, 5, 10)\n",
      "(11, 6, 20)\n",
      "(11, 6, 1)\n",
      "(11, 6, 2)\n",
      "(11, 6, 3)\n",
      "(11, 6, 4)\n",
      "(11, 6, 5)\n",
      "(11, 6, 7)\n",
      "(11, 6, 8)\n",
      "(11, 6, 9)\n",
      "(11, 6, 10)\n",
      "(11, 7, 20)\n",
      "(11, 7, 1)\n",
      "(11, 7, 2)\n",
      "(11, 7, 3)\n",
      "(11, 7, 4)\n",
      "(11, 7, 5)\n",
      "(11, 7, 6)\n",
      "(11, 7, 8)\n",
      "(11, 7, 9)\n",
      "(11, 7, 10)\n",
      "(11, 8, 20)\n",
      "(11, 8, 1)\n",
      "(11, 8, 2)\n",
      "(11, 8, 3)\n",
      "(11, 8, 4)\n",
      "(11, 8, 5)\n",
      "(11, 8, 6)\n",
      "(11, 8, 7)\n",
      "(11, 8, 9)\n",
      "(11, 8, 10)\n",
      "(11, 9, 20)\n",
      "(11, 9, 1)\n",
      "(11, 9, 2)\n",
      "(11, 9, 3)\n",
      "(11, 9, 4)\n",
      "(11, 9, 5)\n",
      "(11, 9, 6)\n",
      "(11, 9, 7)\n",
      "(11, 9, 8)\n",
      "(11, 9, 10)\n",
      "(11, 10, 20)\n",
      "(11, 10, 1)\n",
      "(11, 10, 2)\n",
      "(11, 10, 3)\n",
      "(11, 10, 4)\n",
      "(11, 10, 5)\n",
      "(11, 10, 6)\n",
      "(11, 10, 7)\n",
      "(11, 10, 8)\n",
      "(11, 10, 9)\n"
     ]
    }
   ],
   "source": [
    "import itertools\n",
    "num=int(input(\"enter no.of numbers\"))\n",
    "num2=int(input(\"enter number to look\"))\n",
    "S=int(input(\"enter subset range\"))\n",
    "list1=[]\n",
    "for i in range(num):\n",
    "    x=int(input())\n",
    "    list1.append(x)\n",
    "for var in itertools.permutations(list1,S):\n",
    "    print(var)\n",
    "    "
   ]
  },
  {
   "cell_type": "code",
   "execution_count": null,
   "metadata": {},
   "outputs": [],
   "source": [
    "CSE=int(input())\n",
    "ECE=int(input())\n",
    "MECH=int(input())\n",
    "if CSE>=0 and ECE>=0 and MECH>=0:\n",
    "    if (CSE!=(ECE!=MECH)):\n",
    "        if CSE>=ECE and CSE>=MECH:\n",
    "            print(\"Highest palcement\"+\"\\n\"+\"CSE\")\n",
    "        elif ECE>=MECH:\n",
    "            print(\"Highest placement\"+\"\\n\"+\"ECE\")\n",
    "        else:\n",
    "            print(\"Highest placement\"+\"\\n\"+\"MECH\")\n",
    "    else:\n",
    "        print(\"None of the departments got highest no of placements\")\n",
    "else:\n",
    "    print(\"Invalid input\")"
   ]
  },
  {
   "cell_type": "code",
   "execution_count": 9,
   "metadata": {},
   "outputs": [
    {
     "name": "stdout",
     "output_type": "stream",
     "text": [
      "20\n",
      "30\n",
      "1A\n"
     ]
    }
   ],
   "source": [
    "n=int(input())\n",
    "num=int(input())\n",
    "list1=[]\n",
    "str1=\"\"\n",
    "if n>1 and n<=36:\n",
    "    #quotient=num//n\n",
    "   # print(quotient)\n",
    "    while(num!=0):\n",
    "        remainder=num%n\n",
    "        #print(remainder)\n",
    "        num=num//n\n",
    "        #print(quotient)\n",
    "        if remainder>=0 and remainder<10:\n",
    "            #list1.append(remainder)\n",
    "            str1+=str(remainder)\n",
    "        else:\n",
    "            x=remainder-9+64\n",
    "            #list1.append(chr(x))\n",
    "            str1+=chr(x)\n",
    "    #for i in list1:\n",
    "     #   str1+=i\n",
    "    print(str1[::-1])\n",
    "        \n",
    "else:\n",
    "    print(\"Invalid number\")"
   ]
  },
  {
   "cell_type": "code",
   "execution_count": null,
   "metadata": {},
   "outputs": [],
   "source": []
  },
  {
   "cell_type": "code",
   "execution_count": null,
   "metadata": {},
   "outputs": [],
   "source": []
  }
 ],
 "metadata": {
  "kernelspec": {
   "display_name": "Python 3",
   "language": "python",
   "name": "python3"
  },
  "language_info": {
   "codemirror_mode": {
    "name": "ipython",
    "version": 3
   },
   "file_extension": ".py",
   "mimetype": "text/x-python",
   "name": "python",
   "nbconvert_exporter": "python",
   "pygments_lexer": "ipython3",
   "version": "3.8.5"
  }
 },
 "nbformat": 4,
 "nbformat_minor": 4
}
